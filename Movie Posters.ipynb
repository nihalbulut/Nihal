{
 "cells": [
  {
   "cell_type": "code",
   "execution_count": 1,
   "id": "3c5192ae",
   "metadata": {},
   "outputs": [],
   "source": [
    "import pandas as pd\n",
    "import tensorflow as tf\n",
    "from tensorflow.keras import Sequential\n",
    "from tensorflow.keras.layers import Conv2D,MaxPool2D,Dense,Flatten,BatchNormalization,Dropout\n",
    "from tensorflow.keras.optimizers import Adam\n",
    "from tensorflow.keras.preprocessing import image"
   ]
  },
  {
   "cell_type": "code",
   "execution_count": 38,
   "id": "50467959",
   "metadata": {},
   "outputs": [],
   "source": [
    "import numpy as np\n",
    "from tqdm import tqdm\n",
    "from sklearn.model_selection import train_test_split"
   ]
  },
  {
   "cell_type": "code",
   "execution_count": 39,
   "id": "c95b8f86",
   "metadata": {},
   "outputs": [],
   "source": [
    "df=pd.read_csv(\"train.csv\")"
   ]
  },
  {
   "cell_type": "code",
   "execution_count": 25,
   "id": "ce7acffe",
   "metadata": {},
   "outputs": [
    {
     "data": {
      "text/html": [
       "<div>\n",
       "<style scoped>\n",
       "    .dataframe tbody tr th:only-of-type {\n",
       "        vertical-align: middle;\n",
       "    }\n",
       "\n",
       "    .dataframe tbody tr th {\n",
       "        vertical-align: top;\n",
       "    }\n",
       "\n",
       "    .dataframe thead th {\n",
       "        text-align: right;\n",
       "    }\n",
       "</style>\n",
       "<table border=\"1\" class=\"dataframe\">\n",
       "  <thead>\n",
       "    <tr style=\"text-align: right;\">\n",
       "      <th></th>\n",
       "      <th>Id</th>\n",
       "      <th>Genre</th>\n",
       "      <th>Action</th>\n",
       "      <th>Adventure</th>\n",
       "      <th>Animation</th>\n",
       "      <th>Biography</th>\n",
       "      <th>Comedy</th>\n",
       "      <th>Crime</th>\n",
       "      <th>Documentary</th>\n",
       "      <th>Drama</th>\n",
       "      <th>...</th>\n",
       "      <th>N/A</th>\n",
       "      <th>News</th>\n",
       "      <th>Reality-TV</th>\n",
       "      <th>Romance</th>\n",
       "      <th>Sci-Fi</th>\n",
       "      <th>Short</th>\n",
       "      <th>Sport</th>\n",
       "      <th>Thriller</th>\n",
       "      <th>War</th>\n",
       "      <th>Western</th>\n",
       "    </tr>\n",
       "  </thead>\n",
       "  <tbody>\n",
       "    <tr>\n",
       "      <th>0</th>\n",
       "      <td>tt0086425</td>\n",
       "      <td>['Comedy', 'Drama']</td>\n",
       "      <td>0</td>\n",
       "      <td>0</td>\n",
       "      <td>0</td>\n",
       "      <td>0</td>\n",
       "      <td>1</td>\n",
       "      <td>0</td>\n",
       "      <td>0</td>\n",
       "      <td>1</td>\n",
       "      <td>...</td>\n",
       "      <td>0</td>\n",
       "      <td>0</td>\n",
       "      <td>0</td>\n",
       "      <td>0</td>\n",
       "      <td>0</td>\n",
       "      <td>0</td>\n",
       "      <td>0</td>\n",
       "      <td>0</td>\n",
       "      <td>0</td>\n",
       "      <td>0</td>\n",
       "    </tr>\n",
       "    <tr>\n",
       "      <th>1</th>\n",
       "      <td>tt0085549</td>\n",
       "      <td>['Drama', 'Romance', 'Music']</td>\n",
       "      <td>0</td>\n",
       "      <td>0</td>\n",
       "      <td>0</td>\n",
       "      <td>0</td>\n",
       "      <td>0</td>\n",
       "      <td>0</td>\n",
       "      <td>0</td>\n",
       "      <td>1</td>\n",
       "      <td>...</td>\n",
       "      <td>0</td>\n",
       "      <td>0</td>\n",
       "      <td>0</td>\n",
       "      <td>1</td>\n",
       "      <td>0</td>\n",
       "      <td>0</td>\n",
       "      <td>0</td>\n",
       "      <td>0</td>\n",
       "      <td>0</td>\n",
       "      <td>0</td>\n",
       "    </tr>\n",
       "    <tr>\n",
       "      <th>2</th>\n",
       "      <td>tt0086465</td>\n",
       "      <td>['Comedy']</td>\n",
       "      <td>0</td>\n",
       "      <td>0</td>\n",
       "      <td>0</td>\n",
       "      <td>0</td>\n",
       "      <td>1</td>\n",
       "      <td>0</td>\n",
       "      <td>0</td>\n",
       "      <td>0</td>\n",
       "      <td>...</td>\n",
       "      <td>0</td>\n",
       "      <td>0</td>\n",
       "      <td>0</td>\n",
       "      <td>0</td>\n",
       "      <td>0</td>\n",
       "      <td>0</td>\n",
       "      <td>0</td>\n",
       "      <td>0</td>\n",
       "      <td>0</td>\n",
       "      <td>0</td>\n",
       "    </tr>\n",
       "    <tr>\n",
       "      <th>3</th>\n",
       "      <td>tt0086567</td>\n",
       "      <td>['Sci-Fi', 'Thriller']</td>\n",
       "      <td>0</td>\n",
       "      <td>0</td>\n",
       "      <td>0</td>\n",
       "      <td>0</td>\n",
       "      <td>0</td>\n",
       "      <td>0</td>\n",
       "      <td>0</td>\n",
       "      <td>0</td>\n",
       "      <td>...</td>\n",
       "      <td>0</td>\n",
       "      <td>0</td>\n",
       "      <td>0</td>\n",
       "      <td>0</td>\n",
       "      <td>1</td>\n",
       "      <td>0</td>\n",
       "      <td>0</td>\n",
       "      <td>1</td>\n",
       "      <td>0</td>\n",
       "      <td>0</td>\n",
       "    </tr>\n",
       "    <tr>\n",
       "      <th>4</th>\n",
       "      <td>tt0086034</td>\n",
       "      <td>['Action', 'Adventure', 'Thriller']</td>\n",
       "      <td>1</td>\n",
       "      <td>1</td>\n",
       "      <td>0</td>\n",
       "      <td>0</td>\n",
       "      <td>0</td>\n",
       "      <td>0</td>\n",
       "      <td>0</td>\n",
       "      <td>0</td>\n",
       "      <td>...</td>\n",
       "      <td>0</td>\n",
       "      <td>0</td>\n",
       "      <td>0</td>\n",
       "      <td>0</td>\n",
       "      <td>0</td>\n",
       "      <td>0</td>\n",
       "      <td>0</td>\n",
       "      <td>1</td>\n",
       "      <td>0</td>\n",
       "      <td>0</td>\n",
       "    </tr>\n",
       "  </tbody>\n",
       "</table>\n",
       "<p>5 rows × 27 columns</p>\n",
       "</div>"
      ],
      "text/plain": [
       "          Id                                Genre  Action  Adventure  \\\n",
       "0  tt0086425                  ['Comedy', 'Drama']       0          0   \n",
       "1  tt0085549        ['Drama', 'Romance', 'Music']       0          0   \n",
       "2  tt0086465                           ['Comedy']       0          0   \n",
       "3  tt0086567               ['Sci-Fi', 'Thriller']       0          0   \n",
       "4  tt0086034  ['Action', 'Adventure', 'Thriller']       1          1   \n",
       "\n",
       "   Animation  Biography  Comedy  Crime  Documentary  Drama  ...  N/A  News  \\\n",
       "0          0          0       1      0            0      1  ...    0     0   \n",
       "1          0          0       0      0            0      1  ...    0     0   \n",
       "2          0          0       1      0            0      0  ...    0     0   \n",
       "3          0          0       0      0            0      0  ...    0     0   \n",
       "4          0          0       0      0            0      0  ...    0     0   \n",
       "\n",
       "   Reality-TV  Romance  Sci-Fi  Short  Sport  Thriller  War  Western  \n",
       "0           0        0       0      0      0         0    0        0  \n",
       "1           0        1       0      0      0         0    0        0  \n",
       "2           0        0       0      0      0         0    0        0  \n",
       "3           0        0       1      0      0         1    0        0  \n",
       "4           0        0       0      0      0         1    0        0  \n",
       "\n",
       "[5 rows x 27 columns]"
      ]
     },
     "execution_count": 25,
     "metadata": {},
     "output_type": "execute_result"
    }
   ],
   "source": [
    "df.head()"
   ]
  },
  {
   "cell_type": "code",
   "execution_count": 26,
   "id": "75bd0c2a",
   "metadata": {},
   "outputs": [
    {
     "data": {
      "text/html": [
       "<div>\n",
       "<style scoped>\n",
       "    .dataframe tbody tr th:only-of-type {\n",
       "        vertical-align: middle;\n",
       "    }\n",
       "\n",
       "    .dataframe tbody tr th {\n",
       "        vertical-align: top;\n",
       "    }\n",
       "\n",
       "    .dataframe thead th {\n",
       "        text-align: right;\n",
       "    }\n",
       "</style>\n",
       "<table border=\"1\" class=\"dataframe\">\n",
       "  <thead>\n",
       "    <tr style=\"text-align: right;\">\n",
       "      <th></th>\n",
       "      <th>Id</th>\n",
       "      <th>Genre</th>\n",
       "      <th>Action</th>\n",
       "      <th>Adventure</th>\n",
       "      <th>Animation</th>\n",
       "      <th>Biography</th>\n",
       "      <th>Comedy</th>\n",
       "      <th>Crime</th>\n",
       "      <th>Documentary</th>\n",
       "      <th>Drama</th>\n",
       "      <th>...</th>\n",
       "      <th>N/A</th>\n",
       "      <th>News</th>\n",
       "      <th>Reality-TV</th>\n",
       "      <th>Romance</th>\n",
       "      <th>Sci-Fi</th>\n",
       "      <th>Short</th>\n",
       "      <th>Sport</th>\n",
       "      <th>Thriller</th>\n",
       "      <th>War</th>\n",
       "      <th>Western</th>\n",
       "    </tr>\n",
       "  </thead>\n",
       "  <tbody>\n",
       "    <tr>\n",
       "      <th>7249</th>\n",
       "      <td>tt2409818</td>\n",
       "      <td>['Action', 'Crime', 'Thriller']</td>\n",
       "      <td>1</td>\n",
       "      <td>0</td>\n",
       "      <td>0</td>\n",
       "      <td>0</td>\n",
       "      <td>0</td>\n",
       "      <td>1</td>\n",
       "      <td>0</td>\n",
       "      <td>0</td>\n",
       "      <td>...</td>\n",
       "      <td>0</td>\n",
       "      <td>0</td>\n",
       "      <td>0</td>\n",
       "      <td>0</td>\n",
       "      <td>0</td>\n",
       "      <td>0</td>\n",
       "      <td>0</td>\n",
       "      <td>1</td>\n",
       "      <td>0</td>\n",
       "      <td>0</td>\n",
       "    </tr>\n",
       "    <tr>\n",
       "      <th>7250</th>\n",
       "      <td>tt2062622</td>\n",
       "      <td>['Animation', 'Comedy', 'Family']</td>\n",
       "      <td>0</td>\n",
       "      <td>0</td>\n",
       "      <td>1</td>\n",
       "      <td>0</td>\n",
       "      <td>1</td>\n",
       "      <td>0</td>\n",
       "      <td>0</td>\n",
       "      <td>0</td>\n",
       "      <td>...</td>\n",
       "      <td>0</td>\n",
       "      <td>0</td>\n",
       "      <td>0</td>\n",
       "      <td>0</td>\n",
       "      <td>0</td>\n",
       "      <td>0</td>\n",
       "      <td>0</td>\n",
       "      <td>0</td>\n",
       "      <td>0</td>\n",
       "      <td>0</td>\n",
       "    </tr>\n",
       "    <tr>\n",
       "      <th>7251</th>\n",
       "      <td>tt2442502</td>\n",
       "      <td>['Comedy']</td>\n",
       "      <td>0</td>\n",
       "      <td>0</td>\n",
       "      <td>0</td>\n",
       "      <td>0</td>\n",
       "      <td>1</td>\n",
       "      <td>0</td>\n",
       "      <td>0</td>\n",
       "      <td>0</td>\n",
       "      <td>...</td>\n",
       "      <td>0</td>\n",
       "      <td>0</td>\n",
       "      <td>0</td>\n",
       "      <td>0</td>\n",
       "      <td>0</td>\n",
       "      <td>0</td>\n",
       "      <td>0</td>\n",
       "      <td>0</td>\n",
       "      <td>0</td>\n",
       "      <td>0</td>\n",
       "    </tr>\n",
       "    <tr>\n",
       "      <th>7252</th>\n",
       "      <td>tt3455850</td>\n",
       "      <td>['Documentary']</td>\n",
       "      <td>0</td>\n",
       "      <td>0</td>\n",
       "      <td>0</td>\n",
       "      <td>0</td>\n",
       "      <td>0</td>\n",
       "      <td>0</td>\n",
       "      <td>1</td>\n",
       "      <td>0</td>\n",
       "      <td>...</td>\n",
       "      <td>0</td>\n",
       "      <td>0</td>\n",
       "      <td>0</td>\n",
       "      <td>0</td>\n",
       "      <td>0</td>\n",
       "      <td>0</td>\n",
       "      <td>0</td>\n",
       "      <td>0</td>\n",
       "      <td>0</td>\n",
       "      <td>0</td>\n",
       "    </tr>\n",
       "    <tr>\n",
       "      <th>7253</th>\n",
       "      <td>tt4179482</td>\n",
       "      <td>['Animation']</td>\n",
       "      <td>0</td>\n",
       "      <td>0</td>\n",
       "      <td>1</td>\n",
       "      <td>0</td>\n",
       "      <td>0</td>\n",
       "      <td>0</td>\n",
       "      <td>0</td>\n",
       "      <td>0</td>\n",
       "      <td>...</td>\n",
       "      <td>0</td>\n",
       "      <td>0</td>\n",
       "      <td>0</td>\n",
       "      <td>0</td>\n",
       "      <td>0</td>\n",
       "      <td>0</td>\n",
       "      <td>0</td>\n",
       "      <td>0</td>\n",
       "      <td>0</td>\n",
       "      <td>0</td>\n",
       "    </tr>\n",
       "  </tbody>\n",
       "</table>\n",
       "<p>5 rows × 27 columns</p>\n",
       "</div>"
      ],
      "text/plain": [
       "             Id                              Genre  Action  Adventure  \\\n",
       "7249  tt2409818    ['Action', 'Crime', 'Thriller']       1          0   \n",
       "7250  tt2062622  ['Animation', 'Comedy', 'Family']       0          0   \n",
       "7251  tt2442502                         ['Comedy']       0          0   \n",
       "7252  tt3455850                    ['Documentary']       0          0   \n",
       "7253  tt4179482                      ['Animation']       0          0   \n",
       "\n",
       "      Animation  Biography  Comedy  Crime  Documentary  Drama  ...  N/A  News  \\\n",
       "7249          0          0       0      1            0      0  ...    0     0   \n",
       "7250          1          0       1      0            0      0  ...    0     0   \n",
       "7251          0          0       1      0            0      0  ...    0     0   \n",
       "7252          0          0       0      0            1      0  ...    0     0   \n",
       "7253          1          0       0      0            0      0  ...    0     0   \n",
       "\n",
       "      Reality-TV  Romance  Sci-Fi  Short  Sport  Thriller  War  Western  \n",
       "7249           0        0       0      0      0         1    0        0  \n",
       "7250           0        0       0      0      0         0    0        0  \n",
       "7251           0        0       0      0      0         0    0        0  \n",
       "7252           0        0       0      0      0         0    0        0  \n",
       "7253           0        0       0      0      0         0    0        0  \n",
       "\n",
       "[5 rows x 27 columns]"
      ]
     },
     "execution_count": 26,
     "metadata": {},
     "output_type": "execute_result"
    }
   ],
   "source": [
    "df.tail()"
   ]
  },
  {
   "cell_type": "code",
   "execution_count": 27,
   "id": "916c997b",
   "metadata": {},
   "outputs": [
    {
     "data": {
      "text/plain": [
       "Id             0\n",
       "Genre          0\n",
       "Action         0\n",
       "Adventure      0\n",
       "Animation      0\n",
       "Biography      0\n",
       "Comedy         0\n",
       "Crime          0\n",
       "Documentary    0\n",
       "Drama          0\n",
       "Family         0\n",
       "Fantasy        0\n",
       "History        0\n",
       "Horror         0\n",
       "Music          0\n",
       "Musical        0\n",
       "Mystery        0\n",
       "N/A            0\n",
       "News           0\n",
       "Reality-TV     0\n",
       "Romance        0\n",
       "Sci-Fi         0\n",
       "Short          0\n",
       "Sport          0\n",
       "Thriller       0\n",
       "War            0\n",
       "Western        0\n",
       "dtype: int64"
      ]
     },
     "execution_count": 27,
     "metadata": {},
     "output_type": "execute_result"
    }
   ],
   "source": [
    "df.isnull().sum()"
   ]
  },
  {
   "cell_type": "code",
   "execution_count": 17,
   "id": "b5c52292",
   "metadata": {},
   "outputs": [],
   "source": [
    "import numpy as np\n",
    "from tqdm import tqdm\n",
    "from sklearn.model_selection import train_test_split"
   ]
  },
  {
   "cell_type": "code",
   "execution_count": 19,
   "id": "5f4cdd12",
   "metadata": {},
   "outputs": [
    {
     "name": "stdout",
     "output_type": "stream",
     "text": [
      "['.ipynb_checkpoints', 'archive (1).zip', 'Images', 'Multi_Label_dataset', 'train.csv', 'Untitled.ipynb']\n",
      "['.ipynb_checkpoints', 'archive (1).zip', 'Images', 'Multi_Label_dataset', 'train.csv', 'Untitled.ipynb']\n"
     ]
    }
   ],
   "source": [
    "# İçinde bulunduğumuz klasördeki dosyaları listele\n",
    "print(os.listdir())\n",
    "\n",
    "# Belirli bir klasördeki dosyaları listele\n",
    "print(os.listdir('C:\\\\Users\\\\MONSTER\\\\Documents\\\\Yapay Zeka\\\\Become a Pro\\\\Movie Posters'))\n"
   ]
  },
  {
   "cell_type": "code",
   "execution_count": 29,
   "id": "d59eb5f8",
   "metadata": {},
   "outputs": [
    {
     "name": "stderr",
     "output_type": "stream",
     "text": [
      "100%|█████████████████████████████████████████████████████████████████████████████| 7254/7254 [00:25<00:00, 287.38it/s]\n"
     ]
    }
   ],
   "source": [
    "width = 350\n",
    "height = 350\n",
    "x= []\n",
    "for i in tqdm(range(df.shape[0])):\n",
    "    path = 'C:\\\\Users\\\\MONSTER\\\\Documents\\\\Yapay Zeka\\\\Become a Pro\\\\Movie Posters\\\\Images\\\\'+df['Id'][i]+ '.jpg'\n",
    "    img = image.load_img(path,target_size=(width,height,3))\n",
    "    img = image.img_to_array(img)\n",
    "    img = img/255.0\n",
    "    x.append(img)\n",
    "\n",
    "x = np.array(x)"
   ]
  },
  {
   "cell_type": "code",
   "execution_count": 24,
   "id": "83061351",
   "metadata": {},
   "outputs": [
    {
     "data": {
      "text/plain": [
       "Index(['Id', 'Genre', 'Action', 'Adventure', 'Animation', 'Biography',\n",
       "       'Comedy', 'Crime', 'Documentary', 'Drama', 'Family', 'Fantasy',\n",
       "       'History', 'Horror', 'Music', 'Musical', 'Mystery', 'N/A', 'News',\n",
       "       'Reality-TV', 'Romance', 'Sci-Fi', 'Short', 'Sport', 'Thriller', 'War',\n",
       "       'Western'],\n",
       "      dtype='object')"
      ]
     },
     "execution_count": 24,
     "metadata": {},
     "output_type": "execute_result"
    }
   ],
   "source": [
    "df.columns"
   ]
  },
  {
   "cell_type": "code",
   "execution_count": 40,
   "id": "997ecb69",
   "metadata": {},
   "outputs": [
    {
     "data": {
      "text/plain": [
       "(7254, 25)"
      ]
     },
     "execution_count": 40,
     "metadata": {},
     "output_type": "execute_result"
    }
   ],
   "source": [
    "y = df.drop(['Id','Genre'],axis=1)\n",
    "y = y.to_numpy()\n",
    "y.shape"
   ]
  },
  {
   "cell_type": "code",
   "execution_count": 41,
   "id": "9afb2b93",
   "metadata": {},
   "outputs": [],
   "source": [
    "x_train,x_test,y_train,y_test=train_test_split(x,y,test_size=0.2,random_state=55)"
   ]
  },
  {
   "cell_type": "code",
   "execution_count": 44,
   "id": "7e16d8a2",
   "metadata": {},
   "outputs": [],
   "source": [
    "model = Sequential()\n",
    "model.add(Conv2D(16,kernel_size=(3,3),activation='relu',input_shape=x_train[0].shape))\n",
    "model.add(BatchNormalization())\n",
    "model.add(MaxPool2D(2,2))\n",
    "model.add(Dropout(0.3))\n",
    "\n",
    "\n",
    "model.add(Conv2D(32,kernel_size=(3,3),activation='relu'))\n",
    "model.add(BatchNormalization())\n",
    "model.add(MaxPool2D(2,2))\n",
    "model.add(Dropout(0.3))\n",
    "\n",
    "\n",
    "\n",
    "model.add(Conv2D(64,kernel_size=(3,3),activation='relu'))\n",
    "model.add(BatchNormalization())\n",
    "model.add(MaxPool2D(2,2))\n",
    "model.add(Dropout(0.4))\n",
    "\n",
    "\n",
    "model.add(Flatten())\n",
    "\n",
    "model.add(Dense(128,activation='relu'))\n",
    "model.add(BatchNormalization())\n",
    "model.add(Dropout(0.5))\n",
    "\n",
    "model.add(Dense(25,activation='sigmoid'))"
   ]
  },
  {
   "cell_type": "code",
   "execution_count": 45,
   "id": "c17733f1",
   "metadata": {},
   "outputs": [
    {
     "name": "stdout",
     "output_type": "stream",
     "text": [
      "Epoch 1/10\n",
      "182/182 [==============================] - 517s 3s/step - loss: 8.6775 - accuracy: 0.2152 - val_loss: 68.2037 - val_accuracy: 0.0538\n",
      "Epoch 2/10\n",
      "182/182 [==============================] - 502s 3s/step - loss: 7.9924 - accuracy: 0.2812 - val_loss: 16.9901 - val_accuracy: 0.2295\n",
      "Epoch 3/10\n",
      "182/182 [==============================] - 510s 3s/step - loss: 9.4426 - accuracy: 0.2788 - val_loss: 11.0623 - val_accuracy: 0.3108\n",
      "Epoch 4/10\n",
      "182/182 [==============================] - 501s 3s/step - loss: 11.4599 - accuracy: 0.2838 - val_loss: 13.3645 - val_accuracy: 0.2336\n",
      "Epoch 5/10\n",
      "182/182 [==============================] - 525s 3s/step - loss: 14.5279 - accuracy: 0.2886 - val_loss: 17.8796 - val_accuracy: 0.2853\n",
      "Epoch 6/10\n",
      "182/182 [==============================] - 515s 3s/step - loss: 18.3650 - accuracy: 0.2724 - val_loss: 23.6806 - val_accuracy: 0.2309\n",
      "Epoch 7/10\n",
      "182/182 [==============================] - 523s 3s/step - loss: 22.9089 - accuracy: 0.2773 - val_loss: 26.2223 - val_accuracy: 0.2688\n",
      "Epoch 8/10\n",
      "182/182 [==============================] - 573s 3s/step - loss: 27.5667 - accuracy: 0.2754 - val_loss: 34.3739 - val_accuracy: 0.2130\n",
      "Epoch 9/10\n",
      "182/182 [==============================] - 553s 3s/step - loss: 32.2547 - accuracy: 0.2711 - val_loss: 31.8633 - val_accuracy: 0.2653\n",
      "Epoch 10/10\n",
      "182/182 [==============================] - 508s 3s/step - loss: 37.6351 - accuracy: 0.2616 - val_loss: 45.1831 - val_accuracy: 0.2646\n"
     ]
    },
    {
     "data": {
      "text/plain": [
       "<keras.callbacks.History at 0x15a8cf09910>"
      ]
     },
     "execution_count": 45,
     "metadata": {},
     "output_type": "execute_result"
    }
   ],
   "source": [
    "model.compile(optimizer='adam', loss='categorical_crossentropy', metrics=['accuracy'])\n",
    "model.fit(x_train, y_train, batch_size=32, epochs=10, validation_data=(x_test, y_test))"
   ]
  },
  {
   "cell_type": "code",
   "execution_count": 46,
   "id": "4faa92f8",
   "metadata": {},
   "outputs": [
    {
     "name": "stdout",
     "output_type": "stream",
     "text": [
      "Model: \"sequential_2\"\n",
      "_________________________________________________________________\n",
      " Layer (type)                Output Shape              Param #   \n",
      "=================================================================\n",
      " conv2d_3 (Conv2D)           (None, 348, 348, 16)      448       \n",
      "                                                                 \n",
      " batch_normalization (BatchN  (None, 348, 348, 16)     64        \n",
      " ormalization)                                                   \n",
      "                                                                 \n",
      " max_pooling2d (MaxPooling2D  (None, 174, 174, 16)     0         \n",
      " )                                                               \n",
      "                                                                 \n",
      " dropout (Dropout)           (None, 174, 174, 16)      0         \n",
      "                                                                 \n",
      " conv2d_4 (Conv2D)           (None, 172, 172, 32)      4640      \n",
      "                                                                 \n",
      " batch_normalization_1 (Batc  (None, 172, 172, 32)     128       \n",
      " hNormalization)                                                 \n",
      "                                                                 \n",
      " max_pooling2d_1 (MaxPooling  (None, 86, 86, 32)       0         \n",
      " 2D)                                                             \n",
      "                                                                 \n",
      " dropout_1 (Dropout)         (None, 86, 86, 32)        0         \n",
      "                                                                 \n",
      " conv2d_5 (Conv2D)           (None, 84, 84, 64)        18496     \n",
      "                                                                 \n",
      " batch_normalization_2 (Batc  (None, 84, 84, 64)       256       \n",
      " hNormalization)                                                 \n",
      "                                                                 \n",
      " max_pooling2d_2 (MaxPooling  (None, 42, 42, 64)       0         \n",
      " 2D)                                                             \n",
      "                                                                 \n",
      " dropout_2 (Dropout)         (None, 42, 42, 64)        0         \n",
      "                                                                 \n",
      " flatten_1 (Flatten)         (None, 112896)            0         \n",
      "                                                                 \n",
      " dense_1 (Dense)             (None, 128)               14450816  \n",
      "                                                                 \n",
      " batch_normalization_3 (Batc  (None, 128)              512       \n",
      " hNormalization)                                                 \n",
      "                                                                 \n",
      " dropout_3 (Dropout)         (None, 128)               0         \n",
      "                                                                 \n",
      " dense_2 (Dense)             (None, 25)                3225      \n",
      "                                                                 \n",
      "=================================================================\n",
      "Total params: 14,478,585\n",
      "Trainable params: 14,478,105\n",
      "Non-trainable params: 480\n",
      "_________________________________________________________________\n"
     ]
    }
   ],
   "source": [
    "model.summary()"
   ]
  },
  {
   "cell_type": "code",
   "execution_count": 47,
   "id": "b42f0173",
   "metadata": {},
   "outputs": [
    {
     "name": "stdout",
     "output_type": "stream",
     "text": [
      "227/227 [==============================] - 128s 551ms/step - loss: 41.5082 - accuracy: 0.2761\n"
     ]
    }
   ],
   "source": [
    "scores=model.evaluate(x,y)"
   ]
  },
  {
   "cell_type": "code",
   "execution_count": 48,
   "id": "c830700e",
   "metadata": {},
   "outputs": [
    {
     "data": {
      "text/plain": [
       "0.2761235237121582"
      ]
     },
     "execution_count": 48,
     "metadata": {},
     "output_type": "execute_result"
    }
   ],
   "source": [
    "scores[1]"
   ]
  }
 ],
 "metadata": {
  "kernelspec": {
   "display_name": "Python 3 (ipykernel)",
   "language": "python",
   "name": "python3"
  },
  "language_info": {
   "codemirror_mode": {
    "name": "ipython",
    "version": 3
   },
   "file_extension": ".py",
   "mimetype": "text/x-python",
   "name": "python",
   "nbconvert_exporter": "python",
   "pygments_lexer": "ipython3",
   "version": "3.9.12"
  }
 },
 "nbformat": 4,
 "nbformat_minor": 5
}

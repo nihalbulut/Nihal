{
 "cells": [
  {
   "cell_type": "code",
   "execution_count": 1,
   "id": "55009466",
   "metadata": {},
   "outputs": [],
   "source": [
    "from pyspark.ml import Pipeline\n",
    "from pyspark.ml.classification import RandomForestClassifier\n",
    "from pyspark.ml.evaluation import MulticlassClassificationEvaluator\n",
    "from pyspark.ml.feature import VectorAssembler, StringIndexer"
   ]
  },
  {
   "cell_type": "code",
   "execution_count": 2,
   "id": "a936dd4f",
   "metadata": {},
   "outputs": [],
   "source": [
    "from pyspark.sql import SparkSession"
   ]
  },
  {
   "cell_type": "code",
   "execution_count": 3,
   "id": "6b1a8ac8",
   "metadata": {},
   "outputs": [],
   "source": [
    "spark = SparkSession.builder.appName(\"recommender_system\").getOrCreate()"
   ]
  },
  {
   "cell_type": "code",
   "execution_count": 4,
   "id": "64be6043",
   "metadata": {},
   "outputs": [],
   "source": [
    "df=spark.read.csv(\"movie_ratings_df.csv\",inferSchema=True,header=True)"
   ]
  },
  {
   "cell_type": "code",
   "execution_count": 5,
   "id": "99189cb7",
   "metadata": {},
   "outputs": [
    {
     "data": {
      "text/plain": [
       "100000"
      ]
     },
     "execution_count": 5,
     "metadata": {},
     "output_type": "execute_result"
    }
   ],
   "source": [
    "df.count()"
   ]
  },
  {
   "cell_type": "code",
   "execution_count": 6,
   "id": "25010bf5",
   "metadata": {},
   "outputs": [
    {
     "name": "stdout",
     "output_type": "stream",
     "text": [
      "+------+--------------------+------+\n",
      "|userId|               title|rating|\n",
      "+------+--------------------+------+\n",
      "|   913|L.A. Confidential...|     4|\n",
      "|   843|Dr. Strangelove o...|     3|\n",
      "|    38| Men in Black (1997)|     1|\n",
      "|   276| Men in Black (1997)|     4|\n",
      "|   927|Romy and Michele'...|     3|\n",
      "|   280|Batman Forever (1...|     3|\n",
      "|   311|     Only You (1994)|     3|\n",
      "|   741|     Only You (1994)|     3|\n",
      "|   904|      Sabrina (1995)|     5|\n",
      "|   534|      Twister (1996)|     4|\n",
      "|   661|    Toy Story (1995)|     5|\n",
      "|   536|    Toy Story (1995)|     5|\n",
      "|   886| Broken Arrow (1996)|     1|\n",
      "|   894|  Chasing Amy (1997)|     4|\n",
      "|   643|Silence of the La...|     3|\n",
      "|   712|Sleepless in Seat...|     4|\n",
      "|   707|   Sting, The (1973)|     4|\n",
      "|   527|  Rear Window (1954)|     4|\n",
      "|   427|Fly Away Home (1996)|     4|\n",
      "|   460|     Cop Land (1997)|     4|\n",
      "+------+--------------------+------+\n",
      "only showing top 20 rows\n",
      "\n"
     ]
    }
   ],
   "source": [
    "df.distinct().show()"
   ]
  },
  {
   "cell_type": "code",
   "execution_count": 7,
   "id": "80f45aef",
   "metadata": {},
   "outputs": [
    {
     "data": {
      "text/plain": [
       "DataFrame[summary: string, userId: string, title: string, rating: string]"
      ]
     },
     "execution_count": 7,
     "metadata": {},
     "output_type": "execute_result"
    }
   ],
   "source": [
    "df.describe()"
   ]
  },
  {
   "cell_type": "code",
   "execution_count": 8,
   "id": "7d237890",
   "metadata": {},
   "outputs": [
    {
     "name": "stdout",
     "output_type": "stream",
     "text": [
      "+-------+------------------+--------------------+------------------+\n",
      "|summary|            userId|               title|            rating|\n",
      "+-------+------------------+--------------------+------------------+\n",
      "|  count|            100000|              100000|            100000|\n",
      "|   mean|         462.48475|                null|           3.52986|\n",
      "| stddev|266.61442012750865|                null|1.1256735991443156|\n",
      "|    min|                 1|'Til There Was Yo...|                 1|\n",
      "|    max|               943|� k�ldum klaka (C...|                 5|\n",
      "+-------+------------------+--------------------+------------------+\n",
      "\n"
     ]
    }
   ],
   "source": [
    "df.describe().show()"
   ]
  },
  {
   "cell_type": "code",
   "execution_count": 9,
   "id": "0993dffc",
   "metadata": {},
   "outputs": [],
   "source": [
    "string_indexer=StringIndexer(inputCol=\"title\",outputCol=\"title_ind\")\n",
    "string_indexer_model = string_indexer.fit(df).transform(df)"
   ]
  },
  {
   "cell_type": "code",
   "execution_count": 10,
   "id": "e1562bc4",
   "metadata": {},
   "outputs": [],
   "source": [
    "from pyspark.sql.functions import col"
   ]
  },
  {
   "cell_type": "code",
   "execution_count": 11,
   "id": "334930ce",
   "metadata": {},
   "outputs": [],
   "source": [
    "df=df.withColumn(\"rating\", col(\"rating\").cast(\"float\"))\n",
    "df=df.withColumn(\"userId\", col(\"userId\").cast(\"float\"))"
   ]
  },
  {
   "cell_type": "code",
   "execution_count": 12,
   "id": "5001748f",
   "metadata": {},
   "outputs": [
    {
     "data": {
      "text/plain": [
       "DataFrame[summary: string, userId: string, title: string, rating: string]"
      ]
     },
     "execution_count": 12,
     "metadata": {},
     "output_type": "execute_result"
    }
   ],
   "source": [
    "df.describe()"
   ]
  },
  {
   "cell_type": "code",
   "execution_count": 13,
   "id": "18a87663",
   "metadata": {},
   "outputs": [],
   "source": [
    "assembler = VectorAssembler(\n",
    "    inputCols=[\"userId\",\"rating\"],\n",
    "    outputCol=\"features\"\n",
    ")"
   ]
  },
  {
   "cell_type": "code",
   "execution_count": 14,
   "id": "c42f99ff",
   "metadata": {},
   "outputs": [],
   "source": [
    "df1 = assembler.transform(df).select('features', 'rating')"
   ]
  },
  {
   "cell_type": "code",
   "execution_count": 15,
   "id": "4a1a7510",
   "metadata": {},
   "outputs": [
    {
     "name": "stdout",
     "output_type": "stream",
     "text": [
      "+-----------+------+\n",
      "|features   |rating|\n",
      "+-----------+------+\n",
      "|[196.0,3.0]|3.0   |\n",
      "|[63.0,3.0] |3.0   |\n",
      "|[226.0,5.0]|5.0   |\n",
      "|[154.0,3.0]|3.0   |\n",
      "+-----------+------+\n",
      "only showing top 4 rows\n",
      "\n"
     ]
    }
   ],
   "source": [
    "df1.show(4, truncate=False)"
   ]
  },
  {
   "cell_type": "code",
   "execution_count": 16,
   "id": "31b3d830",
   "metadata": {},
   "outputs": [],
   "source": [
    "trainTest = df.randomSplit([0.8, 0.2])\n",
    "trainingDF = trainTest[0]\n",
    "testDF = trainTest[1]\n",
    "trainingDF = assembler.transform(trainingDF)\n",
    "df = assembler.transform(df)"
   ]
  },
  {
   "cell_type": "code",
   "execution_count": 17,
   "id": "b4bdaee6",
   "metadata": {},
   "outputs": [],
   "source": [
    "evaluated = MulticlassClassificationEvaluator(labelCol='rating', metricName='accuracy')"
   ]
  },
  {
   "cell_type": "code",
   "execution_count": 18,
   "id": "4a7ca5a7",
   "metadata": {},
   "outputs": [],
   "source": [
    "from pyspark.ml.classification import LogisticRegression"
   ]
  },
  {
   "cell_type": "code",
   "execution_count": 19,
   "id": "f8709016",
   "metadata": {},
   "outputs": [
    {
     "data": {
      "text/plain": [
       "0.34174"
      ]
     },
     "execution_count": 19,
     "metadata": {},
     "output_type": "execute_result"
    }
   ],
   "source": [
    "ridge = LogisticRegression(labelCol='rating', maxIter=100, elasticNetParam=0.8,regParam=0.3)\n",
    "model = ridge.fit(trainingDF)\n",
    "pred = model.transform(df)\n",
    "evaluated.evaluate(pred)"
   ]
  },
  {
   "cell_type": "code",
   "execution_count": 20,
   "id": "3eebf342",
   "metadata": {},
   "outputs": [],
   "source": [
    "from pyspark.ml.classification import RandomForestClassifier, GBTClassifier"
   ]
  },
  {
   "cell_type": "code",
   "execution_count": 21,
   "id": "f0d7ed42",
   "metadata": {},
   "outputs": [
    {
     "data": {
      "text/plain": [
       "0.34174"
      ]
     },
     "execution_count": 21,
     "metadata": {},
     "output_type": "execute_result"
    }
   ],
   "source": [
    "lasso = LogisticRegression(labelCol='rating', maxIter=200,elasticNetParam=0.8,regParam=0.3)\n",
    "model = lasso.fit(trainingDF)\n",
    "pred = model.transform(df)\n",
    "evaluated.evaluate(pred)"
   ]
  },
  {
   "cell_type": "code",
   "execution_count": null,
   "id": "2c821834",
   "metadata": {},
   "outputs": [],
   "source": []
  }
 ],
 "metadata": {
  "kernelspec": {
   "display_name": "Python 3 (ipykernel)",
   "language": "python",
   "name": "python3"
  },
  "language_info": {
   "codemirror_mode": {
    "name": "ipython",
    "version": 3
   },
   "file_extension": ".py",
   "mimetype": "text/x-python",
   "name": "python",
   "nbconvert_exporter": "python",
   "pygments_lexer": "ipython3",
   "version": "3.9.12"
  }
 },
 "nbformat": 4,
 "nbformat_minor": 5
}

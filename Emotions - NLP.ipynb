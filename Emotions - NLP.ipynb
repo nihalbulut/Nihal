{
 "cells": [
  {
   "cell_type": "code",
   "execution_count": 1,
   "id": "bd082832",
   "metadata": {},
   "outputs": [],
   "source": [
    "import pandas as pd"
   ]
  },
  {
   "cell_type": "code",
   "execution_count": 8,
   "id": "22bc9964",
   "metadata": {},
   "outputs": [],
   "source": [
    "x=pd.read_csv(\"train.txt\",header=None,encoding=\"latin1\",delimiter=\";\",names=[\"sentence\",\"emotions\"])"
   ]
  },
  {
   "cell_type": "code",
   "execution_count": 9,
   "id": "69cba070",
   "metadata": {},
   "outputs": [],
   "source": [
    "y=pd.read_csv(\"test.txt\",header=0,encoding=\"latin1\",delimiter=\";\",names=[\"sentence\",\"emotions\"])"
   ]
  },
  {
   "cell_type": "code",
   "execution_count": 10,
   "id": "b896091a",
   "metadata": {},
   "outputs": [],
   "source": [
    "z=pd.read_csv(\"val.txt\",header=0,encoding=\"latin1\",delimiter=\";\",names=[\"sentence\",\"emotions\"])"
   ]
  },
  {
   "cell_type": "code",
   "execution_count": 11,
   "id": "d2880e31",
   "metadata": {},
   "outputs": [],
   "source": [
    "df=pd.concat([x,y,z])"
   ]
  },
  {
   "cell_type": "code",
   "execution_count": 12,
   "id": "7660caee",
   "metadata": {},
   "outputs": [
    {
     "data": {
      "text/html": [
       "<div>\n",
       "<style scoped>\n",
       "    .dataframe tbody tr th:only-of-type {\n",
       "        vertical-align: middle;\n",
       "    }\n",
       "\n",
       "    .dataframe tbody tr th {\n",
       "        vertical-align: top;\n",
       "    }\n",
       "\n",
       "    .dataframe thead th {\n",
       "        text-align: right;\n",
       "    }\n",
       "</style>\n",
       "<table border=\"1\" class=\"dataframe\">\n",
       "  <thead>\n",
       "    <tr style=\"text-align: right;\">\n",
       "      <th></th>\n",
       "      <th>sentence</th>\n",
       "      <th>emotions</th>\n",
       "    </tr>\n",
       "  </thead>\n",
       "  <tbody>\n",
       "    <tr>\n",
       "      <th>0</th>\n",
       "      <td>i didnt feel humiliated</td>\n",
       "      <td>sadness</td>\n",
       "    </tr>\n",
       "    <tr>\n",
       "      <th>1</th>\n",
       "      <td>i can go from feeling so hopeless to so damned...</td>\n",
       "      <td>sadness</td>\n",
       "    </tr>\n",
       "    <tr>\n",
       "      <th>2</th>\n",
       "      <td>im grabbing a minute to post i feel greedy wrong</td>\n",
       "      <td>anger</td>\n",
       "    </tr>\n",
       "    <tr>\n",
       "      <th>3</th>\n",
       "      <td>i am ever feeling nostalgic about the fireplac...</td>\n",
       "      <td>love</td>\n",
       "    </tr>\n",
       "    <tr>\n",
       "      <th>4</th>\n",
       "      <td>i am feeling grouchy</td>\n",
       "      <td>anger</td>\n",
       "    </tr>\n",
       "  </tbody>\n",
       "</table>\n",
       "</div>"
      ],
      "text/plain": [
       "                                            sentence emotions\n",
       "0                            i didnt feel humiliated  sadness\n",
       "1  i can go from feeling so hopeless to so damned...  sadness\n",
       "2   im grabbing a minute to post i feel greedy wrong    anger\n",
       "3  i am ever feeling nostalgic about the fireplac...     love\n",
       "4                               i am feeling grouchy    anger"
      ]
     },
     "execution_count": 12,
     "metadata": {},
     "output_type": "execute_result"
    }
   ],
   "source": [
    "df.head()"
   ]
  },
  {
   "cell_type": "code",
   "execution_count": 13,
   "id": "9fca770f",
   "metadata": {},
   "outputs": [
    {
     "data": {
      "text/html": [
       "<div>\n",
       "<style scoped>\n",
       "    .dataframe tbody tr th:only-of-type {\n",
       "        vertical-align: middle;\n",
       "    }\n",
       "\n",
       "    .dataframe tbody tr th {\n",
       "        vertical-align: top;\n",
       "    }\n",
       "\n",
       "    .dataframe thead th {\n",
       "        text-align: right;\n",
       "    }\n",
       "</style>\n",
       "<table border=\"1\" class=\"dataframe\">\n",
       "  <thead>\n",
       "    <tr style=\"text-align: right;\">\n",
       "      <th></th>\n",
       "      <th>sentence</th>\n",
       "      <th>emotions</th>\n",
       "    </tr>\n",
       "  </thead>\n",
       "  <tbody>\n",
       "    <tr>\n",
       "      <th>1994</th>\n",
       "      <td>im having ssa examination tomorrow in the morn...</td>\n",
       "      <td>sadness</td>\n",
       "    </tr>\n",
       "    <tr>\n",
       "      <th>1995</th>\n",
       "      <td>i constantly worry about their fight against n...</td>\n",
       "      <td>joy</td>\n",
       "    </tr>\n",
       "    <tr>\n",
       "      <th>1996</th>\n",
       "      <td>i feel its important to share this info for th...</td>\n",
       "      <td>joy</td>\n",
       "    </tr>\n",
       "    <tr>\n",
       "      <th>1997</th>\n",
       "      <td>i truly feel that if you are passionate enough...</td>\n",
       "      <td>joy</td>\n",
       "    </tr>\n",
       "    <tr>\n",
       "      <th>1998</th>\n",
       "      <td>i feel like i just wanna buy any cute make up ...</td>\n",
       "      <td>joy</td>\n",
       "    </tr>\n",
       "  </tbody>\n",
       "</table>\n",
       "</div>"
      ],
      "text/plain": [
       "                                               sentence emotions\n",
       "1994  im having ssa examination tomorrow in the morn...  sadness\n",
       "1995  i constantly worry about their fight against n...      joy\n",
       "1996  i feel its important to share this info for th...      joy\n",
       "1997  i truly feel that if you are passionate enough...      joy\n",
       "1998  i feel like i just wanna buy any cute make up ...      joy"
      ]
     },
     "execution_count": 13,
     "metadata": {},
     "output_type": "execute_result"
    }
   ],
   "source": [
    "df.tail()"
   ]
  },
  {
   "cell_type": "code",
   "execution_count": 14,
   "id": "951c5ac3",
   "metadata": {},
   "outputs": [],
   "source": [
    "import nltk"
   ]
  },
  {
   "cell_type": "code",
   "execution_count": 15,
   "id": "c8f6f787",
   "metadata": {},
   "outputs": [],
   "source": [
    "from nltk import sent_tokenize"
   ]
  },
  {
   "cell_type": "code",
   "execution_count": 21,
   "id": "6abe02b6",
   "metadata": {},
   "outputs": [],
   "source": [
    "from nltk.tokenize import TreebankWordDetokenizer"
   ]
  },
  {
   "cell_type": "code",
   "execution_count": 22,
   "id": "d8cf6273",
   "metadata": {},
   "outputs": [
    {
     "name": "stdout",
     "output_type": "stream",
     "text": [
      "<class 'pandas.core.frame.DataFrame'>\n",
      "Int64Index: 19998 entries, 0 to 1998\n",
      "Data columns (total 2 columns):\n",
      " #   Column    Non-Null Count  Dtype \n",
      "---  ------    --------------  ----- \n",
      " 0   sentence  19998 non-null  object\n",
      " 1   emotions  19998 non-null  object\n",
      "dtypes: object(2)\n",
      "memory usage: 468.7+ KB\n"
     ]
    }
   ],
   "source": [
    "df.info()"
   ]
  },
  {
   "cell_type": "code",
   "execution_count": 23,
   "id": "6da2b768",
   "metadata": {},
   "outputs": [
    {
     "data": {
      "text/plain": [
       "sentence    0\n",
       "emotions    0\n",
       "dtype: int64"
      ]
     },
     "execution_count": 23,
     "metadata": {},
     "output_type": "execute_result"
    }
   ],
   "source": [
    "df.isnull().sum()"
   ]
  },
  {
   "cell_type": "code",
   "execution_count": 24,
   "id": "f6ef220e",
   "metadata": {},
   "outputs": [
    {
     "data": {
      "text/html": [
       "<div>\n",
       "<style scoped>\n",
       "    .dataframe tbody tr th:only-of-type {\n",
       "        vertical-align: middle;\n",
       "    }\n",
       "\n",
       "    .dataframe tbody tr th {\n",
       "        vertical-align: top;\n",
       "    }\n",
       "\n",
       "    .dataframe thead th {\n",
       "        text-align: right;\n",
       "    }\n",
       "</style>\n",
       "<table border=\"1\" class=\"dataframe\">\n",
       "  <thead>\n",
       "    <tr style=\"text-align: right;\">\n",
       "      <th></th>\n",
       "    </tr>\n",
       "  </thead>\n",
       "  <tbody>\n",
       "  </tbody>\n",
       "</table>\n",
       "</div>"
      ],
      "text/plain": [
       "Empty DataFrame\n",
       "Columns: []\n",
       "Index: []"
      ]
     },
     "execution_count": 24,
     "metadata": {},
     "output_type": "execute_result"
    }
   ],
   "source": [
    "df.corr()"
   ]
  },
  {
   "cell_type": "code",
   "execution_count": 32,
   "id": "b87dff43",
   "metadata": {},
   "outputs": [
    {
     "data": {
      "text/plain": [
       "6"
      ]
     },
     "execution_count": 32,
     "metadata": {},
     "output_type": "execute_result"
    }
   ],
   "source": [
    "df.emotions.nunique()"
   ]
  },
  {
   "cell_type": "code",
   "execution_count": 25,
   "id": "42aeb001",
   "metadata": {},
   "outputs": [
    {
     "data": {
      "text/plain": [
       "(19998, 2)"
      ]
     },
     "execution_count": 25,
     "metadata": {},
     "output_type": "execute_result"
    }
   ],
   "source": [
    "df.shape"
   ]
  },
  {
   "cell_type": "code",
   "execution_count": 38,
   "id": "6629f22d",
   "metadata": {},
   "outputs": [
    {
     "data": {
      "text/plain": [
       "array([1, 0, 2, 3, 4, 5], dtype=int64)"
      ]
     },
     "execution_count": 38,
     "metadata": {},
     "output_type": "execute_result"
    }
   ],
   "source": [
    "df.emotions.unique()"
   ]
  },
  {
   "cell_type": "code",
   "execution_count": 37,
   "id": "08deea28",
   "metadata": {},
   "outputs": [],
   "source": [
    "df[\"emotions\"]=df[\"emotions\"].replace([\"anger\"],0)\n",
    "df[\"emotions\"]=df[\"emotions\"].replace([\"sadness\"],1)\n",
    "df[\"emotions\"]=df[\"emotions\"].replace([\"love\"],2)\n",
    "df[\"emotions\"]=df[\"emotions\"].replace([\"surprise\"],3)\n",
    "df[\"emotions\"]=df[\"emotions\"].replace([\"fear\"],4)\n",
    "df[\"emotions\"]=df[\"emotions\"].replace([\"joy\"],5)"
   ]
  },
  {
   "cell_type": "code",
   "execution_count": 39,
   "id": "7c5c466c",
   "metadata": {},
   "outputs": [],
   "source": [
    "df[\"sentence\"]=df[\"sentence\"].str.lower()"
   ]
  },
  {
   "cell_type": "code",
   "execution_count": 40,
   "id": "4bb1d6b3",
   "metadata": {},
   "outputs": [
    {
     "name": "stderr",
     "output_type": "stream",
     "text": [
      "C:\\Users\\MONSTER\\AppData\\Local\\Temp\\ipykernel_12952\\1503972909.py:1: FutureWarning: The default value of regex will change from True to False in a future version.\n",
      "  df[\"sentence\"]=df[\"sentence\"].str.replace(\"[^\\w\\s]\",\"\")\n"
     ]
    }
   ],
   "source": [
    "df[\"sentence\"]=df[\"sentence\"].str.replace(\"[^\\w\\s]\",\"\")"
   ]
  },
  {
   "cell_type": "code",
   "execution_count": 42,
   "id": "8996c9e9",
   "metadata": {},
   "outputs": [
    {
     "name": "stderr",
     "output_type": "stream",
     "text": [
      "C:\\Users\\MONSTER\\AppData\\Local\\Temp\\ipykernel_12952\\14983044.py:1: FutureWarning: The default value of regex will change from True to False in a future version.\n",
      "  df[\"sentence\"]=df[\"sentence\"].str.replace(\"\\d+\",\"\")\n"
     ]
    }
   ],
   "source": [
    "df[\"sentence\"]=df[\"sentence\"].str.replace(\"\\d+\",\"\")"
   ]
  },
  {
   "cell_type": "code",
   "execution_count": 43,
   "id": "16d24f91",
   "metadata": {},
   "outputs": [],
   "source": [
    "df[\"sentence\"]=df[\"sentence\"].str.replace(\"\\n\",\"\").replace(\"\\r\",\"\")"
   ]
  },
  {
   "cell_type": "code",
   "execution_count": 44,
   "id": "132d50ef",
   "metadata": {},
   "outputs": [],
   "source": [
    "df_yeni=df[(df.emotions==4) | (df.emotions==0)]"
   ]
  },
  {
   "cell_type": "code",
   "execution_count": 45,
   "id": "dbc11bd2",
   "metadata": {},
   "outputs": [],
   "source": [
    "df_yeni.reset_index(drop=True,inplace=True)"
   ]
  },
  {
   "cell_type": "code",
   "execution_count": 46,
   "id": "08d42cac",
   "metadata": {},
   "outputs": [],
   "source": [
    "x=df_yeni.sentence\n",
    "y=df_yeni.emotions"
   ]
  },
  {
   "cell_type": "code",
   "execution_count": 47,
   "id": "bd83e77a",
   "metadata": {},
   "outputs": [],
   "source": [
    "from sklearn.model_selection import train_test_split"
   ]
  },
  {
   "cell_type": "code",
   "execution_count": 48,
   "id": "6ae79dd3",
   "metadata": {},
   "outputs": [
    {
     "name": "stdout",
     "output_type": "stream",
     "text": [
      "0        im grabbing a minute to post i feel greedy wrong\n",
      "1                                    i am feeling grouchy\n",
      "2       i feel as confused about life as a teenager or...\n",
      "3       i think it s the easiest time of year to feel ...\n",
      "4       i now feel compromised and skeptical of the va...\n",
      "                              ...                        \n",
      "5077    i started to see a concerning pattern i d rush...\n",
      "5078    im okay but feeling a little apprehensive as m...\n",
      "5079    i just feel too overwhelmed i can t see the fo...\n",
      "5080                             i feel so tortured by it\n",
      "5081    i feel a bit rude leaving you hanging there fr...\n",
      "Name: sentence, Length: 5082, dtype: object\n"
     ]
    }
   ],
   "source": [
    "print(x)"
   ]
  },
  {
   "cell_type": "code",
   "execution_count": 50,
   "id": "dfcd6de2",
   "metadata": {},
   "outputs": [],
   "source": [
    "from sklearn.feature_extraction.text import CountVectorizer,TfidfVectorizer"
   ]
  },
  {
   "cell_type": "code",
   "execution_count": 51,
   "id": "0433971c",
   "metadata": {},
   "outputs": [],
   "source": [
    "vect=CountVectorizer(lowercase=True,ngram_range=(1,3),stop_words=\"english\")\n",
    "x_yeni=vect.fit_transform(x)"
   ]
  },
  {
   "cell_type": "code",
   "execution_count": 52,
   "id": "590497cb",
   "metadata": {},
   "outputs": [],
   "source": [
    "x_train,x_test,y_train,y_test=train_test_split(x_yeni,y,test_size=0.25,random_state=42)"
   ]
  },
  {
   "cell_type": "code",
   "execution_count": 53,
   "id": "00fdbc42",
   "metadata": {},
   "outputs": [
    {
     "name": "stdout",
     "output_type": "stream",
     "text": [
      "  (0, 16801)\t1\n",
      "  (0, 41232)\t1\n",
      "  (0, 55054)\t1\n",
      "  (0, 55065)\t1\n",
      "  (0, 18580)\t1\n",
      "  (0, 6211)\t1\n",
      "  (0, 55410)\t1\n",
      "  (0, 35273)\t1\n",
      "  (0, 16439)\t1\n",
      "  (0, 13379)\t1\n",
      "  (0, 62993)\t1\n",
      "  (0, 55320)\t1\n",
      "  (0, 41294)\t1\n",
      "  (0, 35274)\t1\n",
      "  (0, 16441)\t1\n",
      "  (0, 6218)\t1\n",
      "  (0, 55413)\t1\n",
      "  (0, 13380)\t1\n",
      "  (0, 62994)\t1\n",
      "  (0, 55078)\t1\n",
      "  (0, 18595)\t1\n",
      "  (0, 41295)\t1\n",
      "  (0, 35275)\t1\n",
      "  (0, 16442)\t1\n",
      "  (0, 6219)\t1\n",
      "  :\t:\n",
      "  (3810, 59446)\t1\n",
      "  (3810, 23284)\t1\n",
      "  (3810, 26701)\t1\n",
      "  (3810, 50619)\t1\n",
      "  (3810, 47739)\t1\n",
      "  (3810, 4980)\t1\n",
      "  (3810, 49713)\t1\n",
      "  (3810, 12906)\t1\n",
      "  (3810, 56288)\t1\n",
      "  (3810, 7883)\t1\n",
      "  (3810, 32626)\t1\n",
      "  (3810, 20552)\t1\n",
      "  (3810, 29067)\t1\n",
      "  (3810, 55229)\t1\n",
      "  (3810, 52999)\t1\n",
      "  (3810, 54481)\t1\n",
      "  (3810, 59447)\t1\n",
      "  (3810, 23285)\t1\n",
      "  (3810, 26702)\t1\n",
      "  (3810, 50620)\t1\n",
      "  (3810, 47741)\t1\n",
      "  (3810, 4981)\t1\n",
      "  (3810, 49714)\t1\n",
      "  (3810, 12907)\t1\n",
      "  (3810, 56289)\t1\n"
     ]
    }
   ],
   "source": [
    "print(x_train)"
   ]
  },
  {
   "cell_type": "code",
   "execution_count": 54,
   "id": "85e732ac",
   "metadata": {},
   "outputs": [],
   "source": [
    "from sklearn.naive_bayes import MultinomialNB"
   ]
  },
  {
   "cell_type": "code",
   "execution_count": 55,
   "id": "f3b4d779",
   "metadata": {},
   "outputs": [],
   "source": [
    "mb=MultinomialNB()"
   ]
  },
  {
   "cell_type": "code",
   "execution_count": 56,
   "id": "4c90dfd5",
   "metadata": {},
   "outputs": [
    {
     "data": {
      "text/plain": [
       "MultinomialNB()"
      ]
     },
     "execution_count": 56,
     "metadata": {},
     "output_type": "execute_result"
    }
   ],
   "source": [
    "mb.fit(x_train,y_train)"
   ]
  },
  {
   "cell_type": "code",
   "execution_count": 57,
   "id": "3c04fce6",
   "metadata": {},
   "outputs": [],
   "source": [
    "from sklearn.metrics import accuracy_score"
   ]
  },
  {
   "cell_type": "code",
   "execution_count": 58,
   "id": "abccf4c7",
   "metadata": {},
   "outputs": [],
   "source": [
    "tahmin=mb.predict(x_test)"
   ]
  },
  {
   "cell_type": "code",
   "execution_count": 59,
   "id": "93d7c9fb",
   "metadata": {},
   "outputs": [
    {
     "data": {
      "text/plain": [
       "0.939417781274587"
      ]
     },
     "execution_count": 59,
     "metadata": {},
     "output_type": "execute_result"
    }
   ],
   "source": [
    "accuracy_score(y_test,tahmin)"
   ]
  },
  {
   "cell_type": "code",
   "execution_count": 60,
   "id": "2b942cad",
   "metadata": {},
   "outputs": [],
   "source": [
    "from sklearn.tree import DecisionTreeClassifier"
   ]
  },
  {
   "cell_type": "code",
   "execution_count": 61,
   "id": "fb36515a",
   "metadata": {},
   "outputs": [],
   "source": [
    "d=DecisionTreeClassifier()"
   ]
  },
  {
   "cell_type": "code",
   "execution_count": 62,
   "id": "5920e11a",
   "metadata": {},
   "outputs": [
    {
     "data": {
      "text/plain": [
       "DecisionTreeClassifier()"
      ]
     },
     "execution_count": 62,
     "metadata": {},
     "output_type": "execute_result"
    }
   ],
   "source": [
    "d.fit(x_train,y_train)"
   ]
  },
  {
   "cell_type": "code",
   "execution_count": 63,
   "id": "014ef0c0",
   "metadata": {},
   "outputs": [],
   "source": [
    "tahmin2=d.predict(x_test)"
   ]
  },
  {
   "cell_type": "code",
   "execution_count": 64,
   "id": "0f8349df",
   "metadata": {},
   "outputs": [
    {
     "data": {
      "text/plain": [
       "0.955940204563336"
      ]
     },
     "execution_count": 64,
     "metadata": {},
     "output_type": "execute_result"
    }
   ],
   "source": [
    "accuracy_score(tahmin2,y_test)"
   ]
  },
  {
   "cell_type": "code",
   "execution_count": null,
   "id": "1b5c8b19",
   "metadata": {},
   "outputs": [],
   "source": []
  }
 ],
 "metadata": {
  "kernelspec": {
   "display_name": "Python 3 (ipykernel)",
   "language": "python",
   "name": "python3"
  },
  "language_info": {
   "codemirror_mode": {
    "name": "ipython",
    "version": 3
   },
   "file_extension": ".py",
   "mimetype": "text/x-python",
   "name": "python",
   "nbconvert_exporter": "python",
   "pygments_lexer": "ipython3",
   "version": "3.9.12"
  }
 },
 "nbformat": 4,
 "nbformat_minor": 5
}

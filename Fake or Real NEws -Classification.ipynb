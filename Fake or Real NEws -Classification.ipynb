{
 "cells": [
  {
   "cell_type": "code",
   "execution_count": 1,
   "id": "d0d8228a",
   "metadata": {},
   "outputs": [],
   "source": [
    "import pandas as pd"
   ]
  },
  {
   "cell_type": "code",
   "execution_count": 20,
   "id": "2ccf5c01",
   "metadata": {},
   "outputs": [],
   "source": [
    "df1=pd.read_csv(\"Fake.csv\")"
   ]
  },
  {
   "cell_type": "code",
   "execution_count": 21,
   "id": "c10f705b",
   "metadata": {},
   "outputs": [],
   "source": [
    "df1[\"F/T\"]=\"F\""
   ]
  },
  {
   "cell_type": "code",
   "execution_count": 22,
   "id": "542399be",
   "metadata": {},
   "outputs": [],
   "source": [
    "df2=pd.read_csv(\"True.csv\")"
   ]
  },
  {
   "cell_type": "code",
   "execution_count": 23,
   "id": "17c33f22",
   "metadata": {},
   "outputs": [],
   "source": [
    "df2[\"F/T\"]=\"T\""
   ]
  },
  {
   "cell_type": "code",
   "execution_count": 24,
   "id": "cc60d9a8",
   "metadata": {},
   "outputs": [],
   "source": [
    "df=pd.concat([df1,df2])"
   ]
  },
  {
   "cell_type": "code",
   "execution_count": 25,
   "id": "41ae212d",
   "metadata": {},
   "outputs": [
    {
     "data": {
      "text/html": [
       "<div>\n",
       "<style scoped>\n",
       "    .dataframe tbody tr th:only-of-type {\n",
       "        vertical-align: middle;\n",
       "    }\n",
       "\n",
       "    .dataframe tbody tr th {\n",
       "        vertical-align: top;\n",
       "    }\n",
       "\n",
       "    .dataframe thead th {\n",
       "        text-align: right;\n",
       "    }\n",
       "</style>\n",
       "<table border=\"1\" class=\"dataframe\">\n",
       "  <thead>\n",
       "    <tr style=\"text-align: right;\">\n",
       "      <th></th>\n",
       "      <th>title</th>\n",
       "      <th>text</th>\n",
       "      <th>subject</th>\n",
       "      <th>date</th>\n",
       "      <th>F/T</th>\n",
       "    </tr>\n",
       "  </thead>\n",
       "  <tbody>\n",
       "    <tr>\n",
       "      <th>0</th>\n",
       "      <td>Donald Trump Sends Out Embarrassing New Year’...</td>\n",
       "      <td>Donald Trump just couldn t wish all Americans ...</td>\n",
       "      <td>News</td>\n",
       "      <td>December 31, 2017</td>\n",
       "      <td>F</td>\n",
       "    </tr>\n",
       "    <tr>\n",
       "      <th>1</th>\n",
       "      <td>Drunk Bragging Trump Staffer Started Russian ...</td>\n",
       "      <td>House Intelligence Committee Chairman Devin Nu...</td>\n",
       "      <td>News</td>\n",
       "      <td>December 31, 2017</td>\n",
       "      <td>F</td>\n",
       "    </tr>\n",
       "    <tr>\n",
       "      <th>2</th>\n",
       "      <td>Sheriff David Clarke Becomes An Internet Joke...</td>\n",
       "      <td>On Friday, it was revealed that former Milwauk...</td>\n",
       "      <td>News</td>\n",
       "      <td>December 30, 2017</td>\n",
       "      <td>F</td>\n",
       "    </tr>\n",
       "    <tr>\n",
       "      <th>3</th>\n",
       "      <td>Trump Is So Obsessed He Even Has Obama’s Name...</td>\n",
       "      <td>On Christmas day, Donald Trump announced that ...</td>\n",
       "      <td>News</td>\n",
       "      <td>December 29, 2017</td>\n",
       "      <td>F</td>\n",
       "    </tr>\n",
       "    <tr>\n",
       "      <th>4</th>\n",
       "      <td>Pope Francis Just Called Out Donald Trump Dur...</td>\n",
       "      <td>Pope Francis used his annual Christmas Day mes...</td>\n",
       "      <td>News</td>\n",
       "      <td>December 25, 2017</td>\n",
       "      <td>F</td>\n",
       "    </tr>\n",
       "  </tbody>\n",
       "</table>\n",
       "</div>"
      ],
      "text/plain": [
       "                                               title  \\\n",
       "0   Donald Trump Sends Out Embarrassing New Year’...   \n",
       "1   Drunk Bragging Trump Staffer Started Russian ...   \n",
       "2   Sheriff David Clarke Becomes An Internet Joke...   \n",
       "3   Trump Is So Obsessed He Even Has Obama’s Name...   \n",
       "4   Pope Francis Just Called Out Donald Trump Dur...   \n",
       "\n",
       "                                                text subject  \\\n",
       "0  Donald Trump just couldn t wish all Americans ...    News   \n",
       "1  House Intelligence Committee Chairman Devin Nu...    News   \n",
       "2  On Friday, it was revealed that former Milwauk...    News   \n",
       "3  On Christmas day, Donald Trump announced that ...    News   \n",
       "4  Pope Francis used his annual Christmas Day mes...    News   \n",
       "\n",
       "                date F/T  \n",
       "0  December 31, 2017   F  \n",
       "1  December 31, 2017   F  \n",
       "2  December 30, 2017   F  \n",
       "3  December 29, 2017   F  \n",
       "4  December 25, 2017   F  "
      ]
     },
     "execution_count": 25,
     "metadata": {},
     "output_type": "execute_result"
    }
   ],
   "source": [
    "df.head()"
   ]
  },
  {
   "cell_type": "code",
   "execution_count": 26,
   "id": "eb281a83",
   "metadata": {},
   "outputs": [
    {
     "data": {
      "text/html": [
       "<div>\n",
       "<style scoped>\n",
       "    .dataframe tbody tr th:only-of-type {\n",
       "        vertical-align: middle;\n",
       "    }\n",
       "\n",
       "    .dataframe tbody tr th {\n",
       "        vertical-align: top;\n",
       "    }\n",
       "\n",
       "    .dataframe thead th {\n",
       "        text-align: right;\n",
       "    }\n",
       "</style>\n",
       "<table border=\"1\" class=\"dataframe\">\n",
       "  <thead>\n",
       "    <tr style=\"text-align: right;\">\n",
       "      <th></th>\n",
       "      <th>title</th>\n",
       "      <th>text</th>\n",
       "      <th>subject</th>\n",
       "      <th>date</th>\n",
       "      <th>F/T</th>\n",
       "    </tr>\n",
       "  </thead>\n",
       "  <tbody>\n",
       "    <tr>\n",
       "      <th>21412</th>\n",
       "      <td>'Fully committed' NATO backs new U.S. approach...</td>\n",
       "      <td>BRUSSELS (Reuters) - NATO allies on Tuesday we...</td>\n",
       "      <td>worldnews</td>\n",
       "      <td>August 22, 2017</td>\n",
       "      <td>T</td>\n",
       "    </tr>\n",
       "    <tr>\n",
       "      <th>21413</th>\n",
       "      <td>LexisNexis withdrew two products from Chinese ...</td>\n",
       "      <td>LONDON (Reuters) - LexisNexis, a provider of l...</td>\n",
       "      <td>worldnews</td>\n",
       "      <td>August 22, 2017</td>\n",
       "      <td>T</td>\n",
       "    </tr>\n",
       "    <tr>\n",
       "      <th>21414</th>\n",
       "      <td>Minsk cultural hub becomes haven from authorities</td>\n",
       "      <td>MINSK (Reuters) - In the shadow of disused Sov...</td>\n",
       "      <td>worldnews</td>\n",
       "      <td>August 22, 2017</td>\n",
       "      <td>T</td>\n",
       "    </tr>\n",
       "    <tr>\n",
       "      <th>21415</th>\n",
       "      <td>Vatican upbeat on possibility of Pope Francis ...</td>\n",
       "      <td>MOSCOW (Reuters) - Vatican Secretary of State ...</td>\n",
       "      <td>worldnews</td>\n",
       "      <td>August 22, 2017</td>\n",
       "      <td>T</td>\n",
       "    </tr>\n",
       "    <tr>\n",
       "      <th>21416</th>\n",
       "      <td>Indonesia to buy $1.14 billion worth of Russia...</td>\n",
       "      <td>JAKARTA (Reuters) - Indonesia will buy 11 Sukh...</td>\n",
       "      <td>worldnews</td>\n",
       "      <td>August 22, 2017</td>\n",
       "      <td>T</td>\n",
       "    </tr>\n",
       "  </tbody>\n",
       "</table>\n",
       "</div>"
      ],
      "text/plain": [
       "                                                   title  \\\n",
       "21412  'Fully committed' NATO backs new U.S. approach...   \n",
       "21413  LexisNexis withdrew two products from Chinese ...   \n",
       "21414  Minsk cultural hub becomes haven from authorities   \n",
       "21415  Vatican upbeat on possibility of Pope Francis ...   \n",
       "21416  Indonesia to buy $1.14 billion worth of Russia...   \n",
       "\n",
       "                                                    text    subject  \\\n",
       "21412  BRUSSELS (Reuters) - NATO allies on Tuesday we...  worldnews   \n",
       "21413  LONDON (Reuters) - LexisNexis, a provider of l...  worldnews   \n",
       "21414  MINSK (Reuters) - In the shadow of disused Sov...  worldnews   \n",
       "21415  MOSCOW (Reuters) - Vatican Secretary of State ...  worldnews   \n",
       "21416  JAKARTA (Reuters) - Indonesia will buy 11 Sukh...  worldnews   \n",
       "\n",
       "                   date F/T  \n",
       "21412  August 22, 2017    T  \n",
       "21413  August 22, 2017    T  \n",
       "21414  August 22, 2017    T  \n",
       "21415  August 22, 2017    T  \n",
       "21416  August 22, 2017    T  "
      ]
     },
     "execution_count": 26,
     "metadata": {},
     "output_type": "execute_result"
    }
   ],
   "source": [
    "df.tail()"
   ]
  },
  {
   "cell_type": "code",
   "execution_count": 27,
   "id": "3a9d5c2a",
   "metadata": {},
   "outputs": [
    {
     "data": {
      "text/plain": [
       "(44898, 5)"
      ]
     },
     "execution_count": 27,
     "metadata": {},
     "output_type": "execute_result"
    }
   ],
   "source": [
    "df.shape"
   ]
  },
  {
   "cell_type": "code",
   "execution_count": 28,
   "id": "c7787e07",
   "metadata": {},
   "outputs": [
    {
     "name": "stdout",
     "output_type": "stream",
     "text": [
      "<class 'pandas.core.frame.DataFrame'>\n",
      "Int64Index: 44898 entries, 0 to 21416\n",
      "Data columns (total 5 columns):\n",
      " #   Column   Non-Null Count  Dtype \n",
      "---  ------   --------------  ----- \n",
      " 0   title    44898 non-null  object\n",
      " 1   text     44898 non-null  object\n",
      " 2   subject  44898 non-null  object\n",
      " 3   date     44898 non-null  object\n",
      " 4   F/T      44898 non-null  object\n",
      "dtypes: object(5)\n",
      "memory usage: 2.1+ MB\n"
     ]
    }
   ],
   "source": [
    "df.info()"
   ]
  },
  {
   "cell_type": "code",
   "execution_count": 29,
   "id": "780116c9",
   "metadata": {},
   "outputs": [
    {
     "data": {
      "text/plain": [
       "title      0\n",
       "text       0\n",
       "subject    0\n",
       "date       0\n",
       "F/T        0\n",
       "dtype: int64"
      ]
     },
     "execution_count": 29,
     "metadata": {},
     "output_type": "execute_result"
    }
   ],
   "source": [
    "df.isnull().sum()"
   ]
  },
  {
   "cell_type": "code",
   "execution_count": 30,
   "id": "2a4aa430",
   "metadata": {},
   "outputs": [
    {
     "data": {
      "text/html": [
       "<div>\n",
       "<style scoped>\n",
       "    .dataframe tbody tr th:only-of-type {\n",
       "        vertical-align: middle;\n",
       "    }\n",
       "\n",
       "    .dataframe tbody tr th {\n",
       "        vertical-align: top;\n",
       "    }\n",
       "\n",
       "    .dataframe thead th {\n",
       "        text-align: right;\n",
       "    }\n",
       "</style>\n",
       "<table border=\"1\" class=\"dataframe\">\n",
       "  <thead>\n",
       "    <tr style=\"text-align: right;\">\n",
       "      <th></th>\n",
       "      <th>title</th>\n",
       "      <th>text</th>\n",
       "      <th>subject</th>\n",
       "      <th>date</th>\n",
       "      <th>F/T</th>\n",
       "    </tr>\n",
       "  </thead>\n",
       "  <tbody>\n",
       "    <tr>\n",
       "      <th>11027</th>\n",
       "      <td>WHY DID PRESIDENT TRUMP Receive 100 Day Scruti...</td>\n",
       "      <td>What factors determine what makes the first 10...</td>\n",
       "      <td>politics</td>\n",
       "      <td>Apr 28, 2017</td>\n",
       "      <td>F</td>\n",
       "    </tr>\n",
       "    <tr>\n",
       "      <th>15392</th>\n",
       "      <td>Egyptian court upholds leading activist's jail...</td>\n",
       "      <td>CAIRO (Reuters) - Egypt s Court of Cassation u...</td>\n",
       "      <td>worldnews</td>\n",
       "      <td>November 8, 2017</td>\n",
       "      <td>T</td>\n",
       "    </tr>\n",
       "    <tr>\n",
       "      <th>15144</th>\n",
       "      <td>Venezuelan crisis spawns boom in gambling</td>\n",
       "      <td>CARACAS (Reuters) -  The Whale ,  The Dog  or ...</td>\n",
       "      <td>worldnews</td>\n",
       "      <td>November 7, 2017</td>\n",
       "      <td>T</td>\n",
       "    </tr>\n",
       "    <tr>\n",
       "      <th>3516</th>\n",
       "      <td>White House says Trump, Merkel 'get along very...</td>\n",
       "      <td>WASHINGTON (Reuters) - U.S. President Donald T...</td>\n",
       "      <td>politicsNews</td>\n",
       "      <td>May 30, 2017</td>\n",
       "      <td>T</td>\n",
       "    </tr>\n",
       "    <tr>\n",
       "      <th>23302</th>\n",
       "      <td>US-UK DIRTY WAR: ‘Latin American-style’ Death ...</td>\n",
       "      <td>Patrick Henningsen 21st Century WireThis week...</td>\n",
       "      <td>Middle-east</td>\n",
       "      <td>July 14, 2016</td>\n",
       "      <td>F</td>\n",
       "    </tr>\n",
       "    <tr>\n",
       "      <th>13541</th>\n",
       "      <td>Iran denies airspace access to Bulgarian PM's ...</td>\n",
       "      <td>SOFIA (Reuters) - Iran denied access to its ai...</td>\n",
       "      <td>worldnews</td>\n",
       "      <td>November 29, 2017</td>\n",
       "      <td>T</td>\n",
       "    </tr>\n",
       "    <tr>\n",
       "      <th>11863</th>\n",
       "      <td>Canada jury clears man of terrorism charges in...</td>\n",
       "      <td>MONTREAL (Reuters) - A Canadian jury on Tuesda...</td>\n",
       "      <td>worldnews</td>\n",
       "      <td>December 19, 2017</td>\n",
       "      <td>T</td>\n",
       "    </tr>\n",
       "    <tr>\n",
       "      <th>15224</th>\n",
       "      <td>Chile police block boxer Mike Tyson from enter...</td>\n",
       "      <td>SANTIAGO (Reuters) - Chilean police prevented ...</td>\n",
       "      <td>worldnews</td>\n",
       "      <td>November 9, 2017</td>\n",
       "      <td>T</td>\n",
       "    </tr>\n",
       "    <tr>\n",
       "      <th>17162</th>\n",
       "      <td>Vietnam arrests dissident for attempt to overt...</td>\n",
       "      <td>HANOI (Reuters) - Vietnamese police have arres...</td>\n",
       "      <td>worldnews</td>\n",
       "      <td>October 18, 2017</td>\n",
       "      <td>T</td>\n",
       "    </tr>\n",
       "    <tr>\n",
       "      <th>9463</th>\n",
       "      <td>Factbox: Puerto Rico debt crisis bill keeps ov...</td>\n",
       "      <td>NEW YORK/SAN JUAN (Reuters) - The U.S. House N...</td>\n",
       "      <td>politicsNews</td>\n",
       "      <td>May 19, 2016</td>\n",
       "      <td>T</td>\n",
       "    </tr>\n",
       "  </tbody>\n",
       "</table>\n",
       "</div>"
      ],
      "text/plain": [
       "                                                   title  \\\n",
       "11027  WHY DID PRESIDENT TRUMP Receive 100 Day Scruti...   \n",
       "15392  Egyptian court upholds leading activist's jail...   \n",
       "15144          Venezuelan crisis spawns boom in gambling   \n",
       "3516   White House says Trump, Merkel 'get along very...   \n",
       "23302  US-UK DIRTY WAR: ‘Latin American-style’ Death ...   \n",
       "13541  Iran denies airspace access to Bulgarian PM's ...   \n",
       "11863  Canada jury clears man of terrorism charges in...   \n",
       "15224  Chile police block boxer Mike Tyson from enter...   \n",
       "17162  Vietnam arrests dissident for attempt to overt...   \n",
       "9463   Factbox: Puerto Rico debt crisis bill keeps ov...   \n",
       "\n",
       "                                                    text       subject  \\\n",
       "11027  What factors determine what makes the first 10...      politics   \n",
       "15392  CAIRO (Reuters) - Egypt s Court of Cassation u...     worldnews   \n",
       "15144  CARACAS (Reuters) -  The Whale ,  The Dog  or ...     worldnews   \n",
       "3516   WASHINGTON (Reuters) - U.S. President Donald T...  politicsNews   \n",
       "23302   Patrick Henningsen 21st Century WireThis week...   Middle-east   \n",
       "13541  SOFIA (Reuters) - Iran denied access to its ai...     worldnews   \n",
       "11863  MONTREAL (Reuters) - A Canadian jury on Tuesda...     worldnews   \n",
       "15224  SANTIAGO (Reuters) - Chilean police prevented ...     worldnews   \n",
       "17162  HANOI (Reuters) - Vietnamese police have arres...     worldnews   \n",
       "9463   NEW YORK/SAN JUAN (Reuters) - The U.S. House N...  politicsNews   \n",
       "\n",
       "                     date F/T  \n",
       "11027        Apr 28, 2017   F  \n",
       "15392   November 8, 2017    T  \n",
       "15144   November 7, 2017    T  \n",
       "3516        May 30, 2017    T  \n",
       "23302       July 14, 2016   F  \n",
       "13541  November 29, 2017    T  \n",
       "11863  December 19, 2017    T  \n",
       "15224   November 9, 2017    T  \n",
       "17162   October 18, 2017    T  \n",
       "9463        May 19, 2016    T  "
      ]
     },
     "execution_count": 30,
     "metadata": {},
     "output_type": "execute_result"
    }
   ],
   "source": [
    "df.sample(10)"
   ]
  },
  {
   "cell_type": "code",
   "execution_count": 31,
   "id": "bcb13e49",
   "metadata": {},
   "outputs": [
    {
     "data": {
      "text/plain": [
       "array(['News', 'politics', 'Government News', 'left-news', 'US_News',\n",
       "       'Middle-east', 'politicsNews', 'worldnews'], dtype=object)"
      ]
     },
     "execution_count": 31,
     "metadata": {},
     "output_type": "execute_result"
    }
   ],
   "source": [
    "df[\"subject\"].unique()"
   ]
  },
  {
   "cell_type": "code",
   "execution_count": 32,
   "id": "0c4d0d48",
   "metadata": {},
   "outputs": [],
   "source": [
    "df[\"F/T\"]=df[\"F/T\"].replace([\"F\",\"T\"],[0,1])"
   ]
  },
  {
   "cell_type": "code",
   "execution_count": 33,
   "id": "d118e232",
   "metadata": {},
   "outputs": [
    {
     "data": {
      "text/html": [
       "<div>\n",
       "<style scoped>\n",
       "    .dataframe tbody tr th:only-of-type {\n",
       "        vertical-align: middle;\n",
       "    }\n",
       "\n",
       "    .dataframe tbody tr th {\n",
       "        vertical-align: top;\n",
       "    }\n",
       "\n",
       "    .dataframe thead th {\n",
       "        text-align: right;\n",
       "    }\n",
       "</style>\n",
       "<table border=\"1\" class=\"dataframe\">\n",
       "  <thead>\n",
       "    <tr style=\"text-align: right;\">\n",
       "      <th></th>\n",
       "      <th>title</th>\n",
       "      <th>text</th>\n",
       "      <th>subject</th>\n",
       "      <th>date</th>\n",
       "      <th>F/T</th>\n",
       "    </tr>\n",
       "  </thead>\n",
       "  <tbody>\n",
       "    <tr>\n",
       "      <th>0</th>\n",
       "      <td>Donald Trump Sends Out Embarrassing New Year’...</td>\n",
       "      <td>Donald Trump just couldn t wish all Americans ...</td>\n",
       "      <td>News</td>\n",
       "      <td>December 31, 2017</td>\n",
       "      <td>0</td>\n",
       "    </tr>\n",
       "    <tr>\n",
       "      <th>1</th>\n",
       "      <td>Drunk Bragging Trump Staffer Started Russian ...</td>\n",
       "      <td>House Intelligence Committee Chairman Devin Nu...</td>\n",
       "      <td>News</td>\n",
       "      <td>December 31, 2017</td>\n",
       "      <td>0</td>\n",
       "    </tr>\n",
       "    <tr>\n",
       "      <th>2</th>\n",
       "      <td>Sheriff David Clarke Becomes An Internet Joke...</td>\n",
       "      <td>On Friday, it was revealed that former Milwauk...</td>\n",
       "      <td>News</td>\n",
       "      <td>December 30, 2017</td>\n",
       "      <td>0</td>\n",
       "    </tr>\n",
       "    <tr>\n",
       "      <th>3</th>\n",
       "      <td>Trump Is So Obsessed He Even Has Obama’s Name...</td>\n",
       "      <td>On Christmas day, Donald Trump announced that ...</td>\n",
       "      <td>News</td>\n",
       "      <td>December 29, 2017</td>\n",
       "      <td>0</td>\n",
       "    </tr>\n",
       "    <tr>\n",
       "      <th>4</th>\n",
       "      <td>Pope Francis Just Called Out Donald Trump Dur...</td>\n",
       "      <td>Pope Francis used his annual Christmas Day mes...</td>\n",
       "      <td>News</td>\n",
       "      <td>December 25, 2017</td>\n",
       "      <td>0</td>\n",
       "    </tr>\n",
       "    <tr>\n",
       "      <th>...</th>\n",
       "      <td>...</td>\n",
       "      <td>...</td>\n",
       "      <td>...</td>\n",
       "      <td>...</td>\n",
       "      <td>...</td>\n",
       "    </tr>\n",
       "    <tr>\n",
       "      <th>21412</th>\n",
       "      <td>'Fully committed' NATO backs new U.S. approach...</td>\n",
       "      <td>BRUSSELS (Reuters) - NATO allies on Tuesday we...</td>\n",
       "      <td>worldnews</td>\n",
       "      <td>August 22, 2017</td>\n",
       "      <td>1</td>\n",
       "    </tr>\n",
       "    <tr>\n",
       "      <th>21413</th>\n",
       "      <td>LexisNexis withdrew two products from Chinese ...</td>\n",
       "      <td>LONDON (Reuters) - LexisNexis, a provider of l...</td>\n",
       "      <td>worldnews</td>\n",
       "      <td>August 22, 2017</td>\n",
       "      <td>1</td>\n",
       "    </tr>\n",
       "    <tr>\n",
       "      <th>21414</th>\n",
       "      <td>Minsk cultural hub becomes haven from authorities</td>\n",
       "      <td>MINSK (Reuters) - In the shadow of disused Sov...</td>\n",
       "      <td>worldnews</td>\n",
       "      <td>August 22, 2017</td>\n",
       "      <td>1</td>\n",
       "    </tr>\n",
       "    <tr>\n",
       "      <th>21415</th>\n",
       "      <td>Vatican upbeat on possibility of Pope Francis ...</td>\n",
       "      <td>MOSCOW (Reuters) - Vatican Secretary of State ...</td>\n",
       "      <td>worldnews</td>\n",
       "      <td>August 22, 2017</td>\n",
       "      <td>1</td>\n",
       "    </tr>\n",
       "    <tr>\n",
       "      <th>21416</th>\n",
       "      <td>Indonesia to buy $1.14 billion worth of Russia...</td>\n",
       "      <td>JAKARTA (Reuters) - Indonesia will buy 11 Sukh...</td>\n",
       "      <td>worldnews</td>\n",
       "      <td>August 22, 2017</td>\n",
       "      <td>1</td>\n",
       "    </tr>\n",
       "  </tbody>\n",
       "</table>\n",
       "<p>44898 rows × 5 columns</p>\n",
       "</div>"
      ],
      "text/plain": [
       "                                                   title  \\\n",
       "0       Donald Trump Sends Out Embarrassing New Year’...   \n",
       "1       Drunk Bragging Trump Staffer Started Russian ...   \n",
       "2       Sheriff David Clarke Becomes An Internet Joke...   \n",
       "3       Trump Is So Obsessed He Even Has Obama’s Name...   \n",
       "4       Pope Francis Just Called Out Donald Trump Dur...   \n",
       "...                                                  ...   \n",
       "21412  'Fully committed' NATO backs new U.S. approach...   \n",
       "21413  LexisNexis withdrew two products from Chinese ...   \n",
       "21414  Minsk cultural hub becomes haven from authorities   \n",
       "21415  Vatican upbeat on possibility of Pope Francis ...   \n",
       "21416  Indonesia to buy $1.14 billion worth of Russia...   \n",
       "\n",
       "                                                    text    subject  \\\n",
       "0      Donald Trump just couldn t wish all Americans ...       News   \n",
       "1      House Intelligence Committee Chairman Devin Nu...       News   \n",
       "2      On Friday, it was revealed that former Milwauk...       News   \n",
       "3      On Christmas day, Donald Trump announced that ...       News   \n",
       "4      Pope Francis used his annual Christmas Day mes...       News   \n",
       "...                                                  ...        ...   \n",
       "21412  BRUSSELS (Reuters) - NATO allies on Tuesday we...  worldnews   \n",
       "21413  LONDON (Reuters) - LexisNexis, a provider of l...  worldnews   \n",
       "21414  MINSK (Reuters) - In the shadow of disused Sov...  worldnews   \n",
       "21415  MOSCOW (Reuters) - Vatican Secretary of State ...  worldnews   \n",
       "21416  JAKARTA (Reuters) - Indonesia will buy 11 Sukh...  worldnews   \n",
       "\n",
       "                    date  F/T  \n",
       "0      December 31, 2017    0  \n",
       "1      December 31, 2017    0  \n",
       "2      December 30, 2017    0  \n",
       "3      December 29, 2017    0  \n",
       "4      December 25, 2017    0  \n",
       "...                  ...  ...  \n",
       "21412   August 22, 2017     1  \n",
       "21413   August 22, 2017     1  \n",
       "21414   August 22, 2017     1  \n",
       "21415   August 22, 2017     1  \n",
       "21416   August 22, 2017     1  \n",
       "\n",
       "[44898 rows x 5 columns]"
      ]
     },
     "execution_count": 33,
     "metadata": {},
     "output_type": "execute_result"
    }
   ],
   "source": [
    "df"
   ]
  },
  {
   "cell_type": "code",
   "execution_count": 37,
   "id": "ae5adf4d",
   "metadata": {},
   "outputs": [],
   "source": [
    "df[\"subject\"]=df[\"subject\"].replace([\"News\"],1)\n",
    "df[\"subject\"]=df[\"subject\"].replace([\"left-news\"],2)\n",
    "df[\"subject\"]=df[\"subject\"].replace([\"worldnews\"],3)\n",
    "df[\"subject\"]=df[\"subject\"].replace([\"politics\"],4)\n",
    "df[\"subject\"]=df[\"subject\"].replace([\"Government News\"],5)\n",
    "df[\"subject\"]=df[\"subject\"].replace([\"Middle-east\"],6)\n",
    "df[\"subject\"]=df[\"subject\"].replace([\"US_News\"],7)\n",
    "df[\"subject\"]=df[\"subject\"].replace([\"politicsNews\"],8)"
   ]
  },
  {
   "cell_type": "code",
   "execution_count": 38,
   "id": "195fe8c8",
   "metadata": {},
   "outputs": [
    {
     "data": {
      "text/plain": [
       "array([1, 4, 5, 2, 7, 6, 8, 3], dtype=int64)"
      ]
     },
     "execution_count": 38,
     "metadata": {},
     "output_type": "execute_result"
    }
   ],
   "source": [
    "df.subject.unique()"
   ]
  },
  {
   "cell_type": "code",
   "execution_count": 39,
   "id": "3b9be9c3",
   "metadata": {},
   "outputs": [],
   "source": [
    "import seaborn as sns"
   ]
  },
  {
   "cell_type": "code",
   "execution_count": 41,
   "id": "cb1c134c",
   "metadata": {},
   "outputs": [
    {
     "data": {
      "text/plain": [
       "<AxesSubplot:xlabel='subject', ylabel='count'>"
      ]
     },
     "execution_count": 41,
     "metadata": {},
     "output_type": "execute_result"
    },
    {
     "data": {
      "image/png": "[encoded data removed]",
      "text/plain": [
       "<Figure size 432x288 with 1 Axes>"
      ]
     },
     "metadata": {
      "needs_background": "light"
     },
     "output_type": "display_data"
    }
   ],
   "source": [
    "sns.countplot(x=df[\"subject\"])"
   ]
  },
  {
   "cell_type": "code",
   "execution_count": 43,
   "id": "76b9abe2",
   "metadata": {},
   "outputs": [
    {
     "data": {
      "text/plain": [
       "<AxesSubplot:xlabel='F/T', ylabel='count'>"
      ]
     },
     "execution_count": 43,
     "metadata": {},
     "output_type": "execute_result"
    },
    {
     "data": {
      "image/png": "[encoded data removed]",
      "text/plain": [
       "<Figure size 432x288 with 1 Axes>"
      ]
     },
     "metadata": {
      "needs_background": "light"
     },
     "output_type": "display_data"
    }
   ],
   "source": [
    "sns.countplot(x=df[\"F/T\"])"
   ]
  },
  {
   "cell_type": "code",
   "execution_count": 71,
   "id": "62b77776",
   "metadata": {},
   "outputs": [],
   "source": [
    "y=df[\"subject\"]\n",
    "x=df[[\"date\",\"F/T\"]]"
   ]
  },
  {
   "cell_type": "code",
   "execution_count": 72,
   "id": "823e7e5f",
   "metadata": {},
   "outputs": [],
   "source": [
    "x=pd.get_dummies(x,drop_first=True)"
   ]
  },
  {
   "cell_type": "code",
   "execution_count": 73,
   "id": "8b3095bb",
   "metadata": {},
   "outputs": [],
   "source": [
    "from sklearn.model_selection import train_test_split"
   ]
  },
  {
   "cell_type": "code",
   "execution_count": 74,
   "id": "cfafd670",
   "metadata": {},
   "outputs": [],
   "source": [
    "x_train,x_test,y_train,y_test=train_test_split(x,y,test_size=0.2,random_state=55)"
   ]
  },
  {
   "cell_type": "code",
   "execution_count": 75,
   "id": "f421106c",
   "metadata": {},
   "outputs": [],
   "source": [
    "from sklearn.model_selection import KFold\n",
    "Y=df[\"subject\"]\n",
    "X=df.drop(\"subject\",axis=1)\n",
    "\n",
    "kf = KFold(n_splits=5, shuffle=True, random_state=42) # 5 kere bölüyoruz\n",
    "\n",
    "for train_index, test_index in kf.split(X):\n",
    "    X_train, X_test = X.iloc[train_index], X.iloc[test_index]\n",
    "    y_train, y_test\n"
   ]
  },
  {
   "cell_type": "code",
   "execution_count": 76,
   "id": "3501899f",
   "metadata": {},
   "outputs": [],
   "source": [
    "from sklearn.naive_bayes import GaussianNB\n",
    "from sklearn.naive_bayes import BernoulliNB\n",
    "from sklearn.neighbors import KNeighborsClassifier\n",
    "from sklearn.linear_model import LinearRegression\n",
    "from sklearn.tree import DecisionTreeClassifier"
   ]
  },
  {
   "cell_type": "code",
   "execution_count": 77,
   "id": "52d50bae",
   "metadata": {},
   "outputs": [],
   "source": [
    "g=GaussianNB()\n",
    "b=BernoulliNB()\n",
    "k=KNeighborsClassifier()\n",
    "l=LinearRegression()\n",
    "d=DecisionTreeClassifier()"
   ]
  },
  {
   "cell_type": "code",
   "execution_count": 79,
   "id": "2013b5b2",
   "metadata": {},
   "outputs": [
    {
     "data": {
      "text/plain": [
       "BernoulliNB()"
      ]
     },
     "execution_count": 79,
     "metadata": {},
     "output_type": "execute_result"
    }
   ],
   "source": [
    "d.fit(x,y)\n",
    "k.fit(x,y)\n",
    "l.fit(x,y)\n",
    "g.fit(x,y)\n",
    "b.fit(x,y)"
   ]
  },
  {
   "cell_type": "code",
   "execution_count": 101,
   "id": "17f802a1",
   "metadata": {},
   "outputs": [],
   "source": [
    "tahmin1=g.predict(x)\n",
    "tahmin2=b.predict(x)\n",
    "tahmin3=k.predict(x)\n"
   ]
  },
  {
   "cell_type": "code",
   "execution_count": 81,
   "id": "63cbc4c9",
   "metadata": {},
   "outputs": [],
   "source": [
    "from sklearn.metrics import accuracy_score, confusion_matrix,classification_report"
   ]
  },
  {
   "cell_type": "code",
   "execution_count": 82,
   "id": "f75ed3c9",
   "metadata": {},
   "outputs": [
    {
     "data": {
      "text/plain": [
       "array([[ 2961,    96,     0,   161,    19,     0,     0,     0],\n",
       "       [    0,  1065,     0,  1428,     0,     0,     0,     0],\n",
       "       [    0,     0, 10145,     0,     0,     0,     0,  2075],\n",
       "       [    0,    73,     0,   315,     0,     0,     0,     0],\n",
       "       [   74,  3047,     0,  4676,  1500,     0,     0,     0],\n",
       "       [ 5918,   178,     0,   261,    51,   778,   778,     0],\n",
       "       [   97,     0,     0,     0,     0,     0,     5,     0],\n",
       "       [    0,     0,     0,     0,     0,     0,     0,  9197]],\n",
       "      dtype=int64)"
      ]
     },
     "execution_count": 82,
     "metadata": {},
     "output_type": "execute_result"
    }
   ],
   "source": [
    "confusion_matrix(tahmin1,y)"
   ]
  },
  {
   "cell_type": "code",
   "execution_count": 85,
   "id": "b76f45d4",
   "metadata": {},
   "outputs": [
    {
     "data": {
      "text/plain": [
       "0.5783331106062631"
      ]
     },
     "execution_count": 85,
     "metadata": {},
     "output_type": "execute_result"
    }
   ],
   "source": [
    "accuracy_score(tahmin1,y)"
   ]
  },
  {
   "cell_type": "code",
   "execution_count": 86,
   "id": "31b08afc",
   "metadata": {},
   "outputs": [
    {
     "name": "stdout",
     "output_type": "stream",
     "text": [
      "              precision    recall  f1-score   support\n",
      "\n",
      "           1       0.33      0.91      0.48      3237\n",
      "           2       0.24      0.43      0.31      2493\n",
      "           3       1.00      0.83      0.91     12220\n",
      "           4       0.05      0.81      0.09       388\n",
      "           5       0.96      0.16      0.28      9297\n",
      "           6       1.00      0.10      0.18      7964\n",
      "           7       0.01      0.05      0.01       102\n",
      "           8       0.82      1.00      0.90      9197\n",
      "\n",
      "    accuracy                           0.58     44898\n",
      "   macro avg       0.55      0.54      0.39     44898\n",
      "weighted avg       0.85      0.58      0.57     44898\n",
      "\n"
     ]
    }
   ],
   "source": [
    "print(classification_report(tahmin1,y))"
   ]
  },
  {
   "cell_type": "code",
   "execution_count": 87,
   "id": "8946039b",
   "metadata": {},
   "outputs": [
    {
     "data": {
      "text/plain": [
       "array([[ 9003,   283,     0,   426,    87,   775,   780,     0],\n",
       "       [    0,   282,     0,   161,    94,     0,     0,     0],\n",
       "       [    0,     0, 10108,     0,     0,     0,     0,  2024],\n",
       "       [   47,  3894,     0,  6254,  1386,     3,     3,     0],\n",
       "       [    0,     0,     0,     0,     3,     0,     0,     0],\n",
       "       [    0,     0,     0,     0,     0,     0,     0,     0],\n",
       "       [    0,     0,     0,     0,     0,     0,     0,     0],\n",
       "       [    0,     0,    37,     0,     0,     0,     0,  9248]],\n",
       "      dtype=int64)"
      ]
     },
     "execution_count": 87,
     "metadata": {},
     "output_type": "execute_result"
    }
   ],
   "source": [
    "confusion_matrix(tahmin2,y)"
   ]
  },
  {
   "cell_type": "code",
   "execution_count": 89,
   "id": "54496b5b",
   "metadata": {},
   "outputs": [
    {
     "data": {
      "text/plain": [
       "0.777272929751882"
      ]
     },
     "execution_count": 89,
     "metadata": {},
     "output_type": "execute_result"
    }
   ],
   "source": [
    "accuracy_score(tahmin2,y)"
   ]
  },
  {
   "cell_type": "code",
   "execution_count": 90,
   "id": "8276440e",
   "metadata": {},
   "outputs": [
    {
     "name": "stdout",
     "output_type": "stream",
     "text": [
      "              precision    recall  f1-score   support\n",
      "\n",
      "           1       0.99      0.79      0.88     11354\n",
      "           2       0.06      0.53      0.11       537\n",
      "           3       1.00      0.83      0.91     12132\n",
      "           4       0.91      0.54      0.68     11587\n",
      "           5       0.00      1.00      0.00         3\n",
      "           6       0.00      0.00      0.00         0\n",
      "           7       0.00      0.00      0.00         0\n",
      "           8       0.82      1.00      0.90      9285\n",
      "\n",
      "    accuracy                           0.78     44898\n",
      "   macro avg       0.47      0.59      0.44     44898\n",
      "weighted avg       0.93      0.78      0.83     44898\n",
      "\n"
     ]
    },
    {
     "name": "stderr",
     "output_type": "stream",
     "text": [
      "C:\\Users\\MONSTER\\anaconda3\\lib\\site-packages\\sklearn\\metrics\\_classification.py:1318: UndefinedMetricWarning: Recall and F-score are ill-defined and being set to 0.0 in labels with no true samples. Use `zero_division` parameter to control this behavior.\n",
      "  _warn_prf(average, modifier, msg_start, len(result))\n",
      "C:\\Users\\MONSTER\\anaconda3\\lib\\site-packages\\sklearn\\metrics\\_classification.py:1318: UndefinedMetricWarning: Recall and F-score are ill-defined and being set to 0.0 in labels with no true samples. Use `zero_division` parameter to control this behavior.\n",
      "  _warn_prf(average, modifier, msg_start, len(result))\n",
      "C:\\Users\\MONSTER\\anaconda3\\lib\\site-packages\\sklearn\\metrics\\_classification.py:1318: UndefinedMetricWarning: Recall and F-score are ill-defined and being set to 0.0 in labels with no true samples. Use `zero_division` parameter to control this behavior.\n",
      "  _warn_prf(average, modifier, msg_start, len(result))\n"
     ]
    }
   ],
   "source": [
    "print(classification_report(tahmin2,y))"
   ]
  },
  {
   "cell_type": "code",
   "execution_count": 91,
   "id": "0e404ea6",
   "metadata": {},
   "outputs": [
    {
     "data": {
      "text/plain": [
       "array([[8609,  196,    0,  302,   54,  704,  709,    0],\n",
       "       [ 126, 1552,    0, 1941,  467,    3,    3,    0],\n",
       "       [   0,    0, 9565,    0,    0,    0,    0, 1847],\n",
       "       [ 161, 2573,    0, 4376,  892,   15,   15,    0],\n",
       "       [  11,  138,    0,  222,  157,    0,    0,    0],\n",
       "       [  54,    0,    0,    0,    0,   31,   31,    0],\n",
       "       [  89,    0,    0,    0,    0,   25,   25,    0],\n",
       "       [   0,    0,  580,    0,    0,    0,    0, 9425]], dtype=int64)"
      ]
     },
     "execution_count": 91,
     "metadata": {},
     "output_type": "execute_result"
    }
   ],
   "source": [
    "confusion_matrix(tahmin3,y)"
   ]
  },
  {
   "cell_type": "code",
   "execution_count": 92,
   "id": "9fb4694b",
   "metadata": {},
   "outputs": [
    {
     "data": {
      "text/plain": [
       "0.75148113501715"
      ]
     },
     "execution_count": 92,
     "metadata": {},
     "output_type": "execute_result"
    }
   ],
   "source": [
    "accuracy_score(tahmin3,y)"
   ]
  },
  {
   "cell_type": "code",
   "execution_count": 93,
   "id": "48d57cf5",
   "metadata": {},
   "outputs": [
    {
     "name": "stdout",
     "output_type": "stream",
     "text": [
      "              precision    recall  f1-score   support\n",
      "\n",
      "           1       0.95      0.81      0.88     10574\n",
      "           2       0.35      0.38      0.36      4092\n",
      "           3       0.94      0.84      0.89     11412\n",
      "           4       0.64      0.54      0.59      8032\n",
      "           5       0.10      0.30      0.15       528\n",
      "           6       0.04      0.27      0.07       116\n",
      "           7       0.03      0.18      0.05       139\n",
      "           8       0.84      0.94      0.89     10005\n",
      "\n",
      "    accuracy                           0.75     44898\n",
      "   macro avg       0.49      0.53      0.48     44898\n",
      "weighted avg       0.80      0.75      0.77     44898\n",
      "\n"
     ]
    }
   ],
   "source": [
    "print(classification_report(tahmin3,y))"
   ]
  },
  {
   "cell_type": "code",
   "execution_count": 102,
   "id": "7a37f717",
   "metadata": {},
   "outputs": [],
   "source": [
    "tahmin4=d.predict(x)"
   ]
  },
  {
   "cell_type": "code",
   "execution_count": 103,
   "id": "c7c84fed",
   "metadata": {},
   "outputs": [
    {
     "data": {
      "text/plain": [
       "array([[ 9000,   283,     0,   425,    84,   761,   766,     0],\n",
       "       [    0,  1103,     0,   948,   295,     0,     0,     0],\n",
       "       [    0,     0, 10108,     0,     0,     0,     0,  2024],\n",
       "       [   47,  3039,     0,  5425,  1116,     3,     3,     0],\n",
       "       [    0,    34,     0,    43,    75,     0,     0,     0],\n",
       "       [    3,     0,     0,     0,     0,    14,    14,     0],\n",
       "       [    0,     0,     0,     0,     0,     0,     0,     0],\n",
       "       [    0,     0,    37,     0,     0,     0,     0,  9248]],\n",
       "      dtype=int64)"
      ]
     },
     "execution_count": 103,
     "metadata": {},
     "output_type": "execute_result"
    }
   ],
   "source": [
    "confusion_matrix(tahmin4,y)"
   ]
  },
  {
   "cell_type": "code",
   "execution_count": 105,
   "id": "327da8fc",
   "metadata": {},
   "outputs": [
    {
     "data": {
      "text/plain": [
       "0.778943382778743"
      ]
     },
     "execution_count": 105,
     "metadata": {},
     "output_type": "execute_result"
    }
   ],
   "source": [
    "accuracy_score(tahmin4,y)"
   ]
  },
  {
   "cell_type": "code",
   "execution_count": 106,
   "id": "953386a2",
   "metadata": {},
   "outputs": [
    {
     "name": "stdout",
     "output_type": "stream",
     "text": [
      "              precision    recall  f1-score   support\n",
      "\n",
      "           1       0.99      0.80      0.88     11319\n",
      "           2       0.25      0.47      0.32      2346\n",
      "           3       1.00      0.83      0.91     12132\n",
      "           4       0.79      0.56      0.66      9633\n",
      "           5       0.05      0.49      0.09       152\n",
      "           6       0.02      0.45      0.03        31\n",
      "           7       0.00      0.00      0.00         0\n",
      "           8       0.82      1.00      0.90      9285\n",
      "\n",
      "    accuracy                           0.78     44898\n",
      "   macro avg       0.49      0.58      0.47     44898\n",
      "weighted avg       0.87      0.78      0.81     44898\n",
      "\n"
     ]
    },
    {
     "name": "stderr",
     "output_type": "stream",
     "text": [
      "C:\\Users\\MONSTER\\anaconda3\\lib\\site-packages\\sklearn\\metrics\\_classification.py:1318: UndefinedMetricWarning: Recall and F-score are ill-defined and being set to 0.0 in labels with no true samples. Use `zero_division` parameter to control this behavior.\n",
      "  _warn_prf(average, modifier, msg_start, len(result))\n",
      "C:\\Users\\MONSTER\\anaconda3\\lib\\site-packages\\sklearn\\metrics\\_classification.py:1318: UndefinedMetricWarning: Recall and F-score are ill-defined and being set to 0.0 in labels with no true samples. Use `zero_division` parameter to control this behavior.\n",
      "  _warn_prf(average, modifier, msg_start, len(result))\n",
      "C:\\Users\\MONSTER\\anaconda3\\lib\\site-packages\\sklearn\\metrics\\_classification.py:1318: UndefinedMetricWarning: Recall and F-score are ill-defined and being set to 0.0 in labels with no true samples. Use `zero_division` parameter to control this behavior.\n",
      "  _warn_prf(average, modifier, msg_start, len(result))\n"
     ]
    }
   ],
   "source": [
    "print(classification_report(tahmin4,y))"
   ]
  },
  {
   "cell_type": "code",
   "execution_count": null,
   "id": "12b9646f",
   "metadata": {},
   "outputs": [],
   "source": []
  }
 ],
 "metadata": {
  "kernelspec": {
   "display_name": "Python 3 (ipykernel)",
   "language": "python",
   "name": "python3"
  },
  "language_info": {
   "codemirror_mode": {
    "name": "ipython",
    "version": 3
   },
   "file_extension": ".py",
   "mimetype": "text/x-python",
   "name": "python",
   "nbconvert_exporter": "python",
   "pygments_lexer": "ipython3",
   "version": "3.9.12"
  }
 },
 "nbformat": 4,
 "nbformat_minor": 5
}

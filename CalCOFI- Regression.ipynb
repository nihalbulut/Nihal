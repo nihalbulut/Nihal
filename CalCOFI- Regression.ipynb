{
 "cells": [
  {
   "cell_type": "code",
   "execution_count": 1,
   "id": "2495a08c",
   "metadata": {},
   "outputs": [],
   "source": [
    "import pandas as pd"
   ]
  },
  {
   "cell_type": "code",
   "execution_count": 2,
   "id": "5cb8fc7f",
   "metadata": {},
   "outputs": [
    {
     "name": "stderr",
     "output_type": "stream",
     "text": [
      "C:\\Users\\MONSTER\\AppData\\Local\\Temp\\ipykernel_11928\\1324568076.py:1: DtypeWarning: Columns (47,73) have mixed types. Specify dtype option on import or set low_memory=False.\n",
      "  df1=pd.read_csv(\"bottle.csv\")\n"
     ]
    }
   ],
   "source": [
    "df1=pd.read_csv(\"bottle.csv\")"
   ]
  },
  {
   "cell_type": "code",
   "execution_count": 3,
   "id": "1fd73abf",
   "metadata": {},
   "outputs": [
    {
     "data": {
      "text/html": [
       "<div>\n",
       "<style scoped>\n",
       "    .dataframe tbody tr th:only-of-type {\n",
       "        vertical-align: middle;\n",
       "    }\n",
       "\n",
       "    .dataframe tbody tr th {\n",
       "        vertical-align: top;\n",
       "    }\n",
       "\n",
       "    .dataframe thead th {\n",
       "        text-align: right;\n",
       "    }\n",
       "</style>\n",
       "<table border=\"1\" class=\"dataframe\">\n",
       "  <thead>\n",
       "    <tr style=\"text-align: right;\">\n",
       "      <th></th>\n",
       "      <th>Cst_Cnt</th>\n",
       "      <th>Btl_Cnt</th>\n",
       "      <th>Sta_ID</th>\n",
       "      <th>Depth_ID</th>\n",
       "      <th>Depthm</th>\n",
       "      <th>T_degC</th>\n",
       "      <th>Salnty</th>\n",
       "      <th>O2ml_L</th>\n",
       "      <th>STheta</th>\n",
       "      <th>O2Sat</th>\n",
       "      <th>...</th>\n",
       "      <th>R_PHAEO</th>\n",
       "      <th>R_PRES</th>\n",
       "      <th>R_SAMP</th>\n",
       "      <th>DIC1</th>\n",
       "      <th>DIC2</th>\n",
       "      <th>TA1</th>\n",
       "      <th>TA2</th>\n",
       "      <th>pH2</th>\n",
       "      <th>pH1</th>\n",
       "      <th>DIC Quality Comment</th>\n",
       "    </tr>\n",
       "  </thead>\n",
       "  <tbody>\n",
       "    <tr>\n",
       "      <th>0</th>\n",
       "      <td>1</td>\n",
       "      <td>1</td>\n",
       "      <td>054.0 056.0</td>\n",
       "      <td>19-4903CR-HY-060-0930-05400560-0000A-3</td>\n",
       "      <td>0</td>\n",
       "      <td>10.50</td>\n",
       "      <td>33.440</td>\n",
       "      <td>NaN</td>\n",
       "      <td>25.649</td>\n",
       "      <td>NaN</td>\n",
       "      <td>...</td>\n",
       "      <td>NaN</td>\n",
       "      <td>0</td>\n",
       "      <td>NaN</td>\n",
       "      <td>NaN</td>\n",
       "      <td>NaN</td>\n",
       "      <td>NaN</td>\n",
       "      <td>NaN</td>\n",
       "      <td>NaN</td>\n",
       "      <td>NaN</td>\n",
       "      <td>NaN</td>\n",
       "    </tr>\n",
       "    <tr>\n",
       "      <th>1</th>\n",
       "      <td>1</td>\n",
       "      <td>2</td>\n",
       "      <td>054.0 056.0</td>\n",
       "      <td>19-4903CR-HY-060-0930-05400560-0008A-3</td>\n",
       "      <td>8</td>\n",
       "      <td>10.46</td>\n",
       "      <td>33.440</td>\n",
       "      <td>NaN</td>\n",
       "      <td>25.656</td>\n",
       "      <td>NaN</td>\n",
       "      <td>...</td>\n",
       "      <td>NaN</td>\n",
       "      <td>8</td>\n",
       "      <td>NaN</td>\n",
       "      <td>NaN</td>\n",
       "      <td>NaN</td>\n",
       "      <td>NaN</td>\n",
       "      <td>NaN</td>\n",
       "      <td>NaN</td>\n",
       "      <td>NaN</td>\n",
       "      <td>NaN</td>\n",
       "    </tr>\n",
       "    <tr>\n",
       "      <th>2</th>\n",
       "      <td>1</td>\n",
       "      <td>3</td>\n",
       "      <td>054.0 056.0</td>\n",
       "      <td>19-4903CR-HY-060-0930-05400560-0010A-7</td>\n",
       "      <td>10</td>\n",
       "      <td>10.46</td>\n",
       "      <td>33.437</td>\n",
       "      <td>NaN</td>\n",
       "      <td>25.654</td>\n",
       "      <td>NaN</td>\n",
       "      <td>...</td>\n",
       "      <td>NaN</td>\n",
       "      <td>10</td>\n",
       "      <td>NaN</td>\n",
       "      <td>NaN</td>\n",
       "      <td>NaN</td>\n",
       "      <td>NaN</td>\n",
       "      <td>NaN</td>\n",
       "      <td>NaN</td>\n",
       "      <td>NaN</td>\n",
       "      <td>NaN</td>\n",
       "    </tr>\n",
       "    <tr>\n",
       "      <th>3</th>\n",
       "      <td>1</td>\n",
       "      <td>4</td>\n",
       "      <td>054.0 056.0</td>\n",
       "      <td>19-4903CR-HY-060-0930-05400560-0019A-3</td>\n",
       "      <td>19</td>\n",
       "      <td>10.45</td>\n",
       "      <td>33.420</td>\n",
       "      <td>NaN</td>\n",
       "      <td>25.643</td>\n",
       "      <td>NaN</td>\n",
       "      <td>...</td>\n",
       "      <td>NaN</td>\n",
       "      <td>19</td>\n",
       "      <td>NaN</td>\n",
       "      <td>NaN</td>\n",
       "      <td>NaN</td>\n",
       "      <td>NaN</td>\n",
       "      <td>NaN</td>\n",
       "      <td>NaN</td>\n",
       "      <td>NaN</td>\n",
       "      <td>NaN</td>\n",
       "    </tr>\n",
       "    <tr>\n",
       "      <th>4</th>\n",
       "      <td>1</td>\n",
       "      <td>5</td>\n",
       "      <td>054.0 056.0</td>\n",
       "      <td>19-4903CR-HY-060-0930-05400560-0020A-7</td>\n",
       "      <td>20</td>\n",
       "      <td>10.45</td>\n",
       "      <td>33.421</td>\n",
       "      <td>NaN</td>\n",
       "      <td>25.643</td>\n",
       "      <td>NaN</td>\n",
       "      <td>...</td>\n",
       "      <td>NaN</td>\n",
       "      <td>20</td>\n",
       "      <td>NaN</td>\n",
       "      <td>NaN</td>\n",
       "      <td>NaN</td>\n",
       "      <td>NaN</td>\n",
       "      <td>NaN</td>\n",
       "      <td>NaN</td>\n",
       "      <td>NaN</td>\n",
       "      <td>NaN</td>\n",
       "    </tr>\n",
       "  </tbody>\n",
       "</table>\n",
       "<p>5 rows × 74 columns</p>\n",
       "</div>"
      ],
      "text/plain": [
       "   Cst_Cnt  Btl_Cnt       Sta_ID                                Depth_ID  \\\n",
       "0        1        1  054.0 056.0  19-4903CR-HY-060-0930-05400560-0000A-3   \n",
       "1        1        2  054.0 056.0  19-4903CR-HY-060-0930-05400560-0008A-3   \n",
       "2        1        3  054.0 056.0  19-4903CR-HY-060-0930-05400560-0010A-7   \n",
       "3        1        4  054.0 056.0  19-4903CR-HY-060-0930-05400560-0019A-3   \n",
       "4        1        5  054.0 056.0  19-4903CR-HY-060-0930-05400560-0020A-7   \n",
       "\n",
       "   Depthm  T_degC  Salnty  O2ml_L  STheta  O2Sat  ...  R_PHAEO  R_PRES  \\\n",
       "0       0   10.50  33.440     NaN  25.649    NaN  ...      NaN       0   \n",
       "1       8   10.46  33.440     NaN  25.656    NaN  ...      NaN       8   \n",
       "2      10   10.46  33.437     NaN  25.654    NaN  ...      NaN      10   \n",
       "3      19   10.45  33.420     NaN  25.643    NaN  ...      NaN      19   \n",
       "4      20   10.45  33.421     NaN  25.643    NaN  ...      NaN      20   \n",
       "\n",
       "   R_SAMP  DIC1  DIC2  TA1  TA2  pH2  pH1  DIC Quality Comment  \n",
       "0     NaN   NaN   NaN  NaN  NaN  NaN  NaN                  NaN  \n",
       "1     NaN   NaN   NaN  NaN  NaN  NaN  NaN                  NaN  \n",
       "2     NaN   NaN   NaN  NaN  NaN  NaN  NaN                  NaN  \n",
       "3     NaN   NaN   NaN  NaN  NaN  NaN  NaN                  NaN  \n",
       "4     NaN   NaN   NaN  NaN  NaN  NaN  NaN                  NaN  \n",
       "\n",
       "[5 rows x 74 columns]"
      ]
     },
     "execution_count": 3,
     "metadata": {},
     "output_type": "execute_result"
    }
   ],
   "source": [
    "df1.head()"
   ]
  },
  {
   "cell_type": "code",
   "execution_count": 4,
   "id": "ec4dec70",
   "metadata": {},
   "outputs": [
    {
     "name": "stdout",
     "output_type": "stream",
     "text": [
      "<class 'pandas.core.frame.DataFrame'>\n",
      "RangeIndex: 864863 entries, 0 to 864862\n",
      "Data columns (total 74 columns):\n",
      " #   Column               Non-Null Count   Dtype  \n",
      "---  ------               --------------   -----  \n",
      " 0   Cst_Cnt              864863 non-null  int64  \n",
      " 1   Btl_Cnt              864863 non-null  int64  \n",
      " 2   Sta_ID               864863 non-null  object \n",
      " 3   Depth_ID             864863 non-null  object \n",
      " 4   Depthm               864863 non-null  int64  \n",
      " 5   T_degC               853900 non-null  float64\n",
      " 6   Salnty               817509 non-null  float64\n",
      " 7   O2ml_L               696201 non-null  float64\n",
      " 8   STheta               812174 non-null  float64\n",
      " 9   O2Sat                661274 non-null  float64\n",
      " 10  Oxy_µmol/Kg          661268 non-null  float64\n",
      " 11  BtlNum               118667 non-null  float64\n",
      " 12  RecInd               864863 non-null  int64  \n",
      " 13  T_prec               853900 non-null  float64\n",
      " 14  T_qual               23127 non-null   float64\n",
      " 15  S_prec               817509 non-null  float64\n",
      " 16  S_qual               74914 non-null   float64\n",
      " 17  P_qual               673755 non-null  float64\n",
      " 18  O_qual               184676 non-null  float64\n",
      " 19  SThtaq               65823 non-null   float64\n",
      " 20  O2Satq               217797 non-null  float64\n",
      " 21  ChlorA               225272 non-null  float64\n",
      " 22  Chlqua               639166 non-null  float64\n",
      " 23  Phaeop               225271 non-null  float64\n",
      " 24  Phaqua               639170 non-null  float64\n",
      " 25  PO4uM                413317 non-null  float64\n",
      " 26  PO4q                 451786 non-null  float64\n",
      " 27  SiO3uM               354091 non-null  float64\n",
      " 28  SiO3qu               510866 non-null  float64\n",
      " 29  NO2uM                337576 non-null  float64\n",
      " 30  NO2q                 529474 non-null  float64\n",
      " 31  NO3uM                337403 non-null  float64\n",
      " 32  NO3q                 529933 non-null  float64\n",
      " 33  NH3uM                64962 non-null   float64\n",
      " 34  NH3q                 808299 non-null  float64\n",
      " 35  C14As1               14432 non-null   float64\n",
      " 36  C14A1p               12760 non-null   float64\n",
      " 37  C14A1q               848605 non-null  float64\n",
      " 38  C14As2               14414 non-null   float64\n",
      " 39  C14A2p               12742 non-null   float64\n",
      " 40  C14A2q               848623 non-null  float64\n",
      " 41  DarkAs               22649 non-null   float64\n",
      " 42  DarkAp               20457 non-null   float64\n",
      " 43  DarkAq               840440 non-null  float64\n",
      " 44  MeanAs               22650 non-null   float64\n",
      " 45  MeanAp               20457 non-null   float64\n",
      " 46  MeanAq               840439 non-null  float64\n",
      " 47  IncTim               14437 non-null   object \n",
      " 48  LightP               18651 non-null   float64\n",
      " 49  R_Depth              864863 non-null  float64\n",
      " 50  R_TEMP               853900 non-null  float64\n",
      " 51  R_POTEMP             818816 non-null  float64\n",
      " 52  R_SALINITY           817509 non-null  float64\n",
      " 53  R_SIGMA              812007 non-null  float64\n",
      " 54  R_SVA                812092 non-null  float64\n",
      " 55  R_DYNHT              818206 non-null  float64\n",
      " 56  R_O2                 696201 non-null  float64\n",
      " 57  R_O2Sat              666448 non-null  float64\n",
      " 58  R_SIO3               354099 non-null  float64\n",
      " 59  R_PO4                413325 non-null  float64\n",
      " 60  R_NO3                337411 non-null  float64\n",
      " 61  R_NO2                337584 non-null  float64\n",
      " 62  R_NH4                64982 non-null   float64\n",
      " 63  R_CHLA               225276 non-null  float64\n",
      " 64  R_PHAEO              225275 non-null  float64\n",
      " 65  R_PRES               864863 non-null  int64  \n",
      " 66  R_SAMP               122006 non-null  float64\n",
      " 67  DIC1                 1999 non-null    float64\n",
      " 68  DIC2                 224 non-null     float64\n",
      " 69  TA1                  2084 non-null    float64\n",
      " 70  TA2                  234 non-null     float64\n",
      " 71  pH2                  10 non-null      float64\n",
      " 72  pH1                  84 non-null      float64\n",
      " 73  DIC Quality Comment  55 non-null      object \n",
      "dtypes: float64(65), int64(5), object(4)\n",
      "memory usage: 488.3+ MB\n"
     ]
    }
   ],
   "source": [
    "df1.info()"
   ]
  },
  {
   "cell_type": "code",
   "execution_count": 5,
   "id": "2ae49aa7",
   "metadata": {},
   "outputs": [
    {
     "data": {
      "text/plain": [
       "(864863, 74)"
      ]
     },
     "execution_count": 5,
     "metadata": {},
     "output_type": "execute_result"
    }
   ],
   "source": [
    "df1.shape"
   ]
  },
  {
   "cell_type": "code",
   "execution_count": 6,
   "id": "ffcea008",
   "metadata": {},
   "outputs": [
    {
     "data": {
      "text/plain": [
       "Cst_Cnt                     0\n",
       "Btl_Cnt                     0\n",
       "Sta_ID                      0\n",
       "Depth_ID                    0\n",
       "Depthm                      0\n",
       "                        ...  \n",
       "TA1                    862779\n",
       "TA2                    864629\n",
       "pH2                    864853\n",
       "pH1                    864779\n",
       "DIC Quality Comment    864808\n",
       "Length: 74, dtype: int64"
      ]
     },
     "execution_count": 6,
     "metadata": {},
     "output_type": "execute_result"
    }
   ],
   "source": [
    "df1.isnull().sum()"
   ]
  },
  {
   "cell_type": "code",
   "execution_count": 7,
   "id": "98313e39",
   "metadata": {},
   "outputs": [],
   "source": [
    "x=df1.drop([\"TA1\",\"TA2\",\"pH1\",\"pH2\",\"DIC Quality Comment\",\"R_PHAEO\",\"R_SAMP\",\"DIC1\"\n",
    "            ,\"DIC2\",\"R_NO3\",\"R_NO2\",\"R_NH4\",\"R_CHLA\",\"R_O2\",\"R_O2Sat\",\"R_SIO3\",\"R_PO4\",\n",
    "           \"O2ml_L\",\"O2Sat\",\"Oxy_µmol/Kg\",\"BtlNum\",\"T_qual\",\"S_qual\",\"P_qual\",\"O_qual\",\n",
    "           \"SThtaq\",\"O2Satq\",\"ChlorA\",\"Chlqua\",\"Phaeop\",\"Phaqua\",\"PO4uM\",\"PO4q\",\"SiO3uM\",\"SiO3qu\",\n",
    "            \"NO2uM\",\"NO2q\",\"NO3uM\",\"NO3q\",\"C14As1\",\"C14A1p\",\"C14As2\",\"C14A2p\",\"DarkAs\",\"DarkAp\",\n",
    "            \"MeanAs\",\"MeanAp\",\"IncTim\",\"LightP\",\"NH3uM\"],axis=1)"
   ]
  },
  {
   "cell_type": "code",
   "execution_count": 8,
   "id": "fcd71e6d",
   "metadata": {},
   "outputs": [
    {
     "data": {
      "text/plain": [
       "Cst_Cnt           0\n",
       "Btl_Cnt           0\n",
       "Sta_ID            0\n",
       "Depth_ID          0\n",
       "Depthm            0\n",
       "T_degC        10963\n",
       "Salnty        47354\n",
       "STheta        52689\n",
       "RecInd            0\n",
       "T_prec        10963\n",
       "S_prec        47354\n",
       "NH3q          56564\n",
       "C14A1q        16258\n",
       "C14A2q        16240\n",
       "DarkAq        24423\n",
       "MeanAq        24424\n",
       "R_Depth           0\n",
       "R_TEMP        10963\n",
       "R_POTEMP      46047\n",
       "R_SALINITY    47354\n",
       "R_SIGMA       52856\n",
       "R_SVA         52771\n",
       "R_DYNHT       46657\n",
       "R_PRES            0\n",
       "dtype: int64"
      ]
     },
     "execution_count": 8,
     "metadata": {},
     "output_type": "execute_result"
    }
   ],
   "source": [
    "x.isnull().sum()"
   ]
  },
  {
   "cell_type": "code",
   "execution_count": 9,
   "id": "61258074",
   "metadata": {
    "scrolled": true
   },
   "outputs": [],
   "source": [
    "df1[\"Salnty\"]=df1[\"Salnty\"].fillna(df1[\"Salnty\"].mean())\n",
    "df1[\"T_degC\"]=df1[\"T_degC\"].fillna(df1[\"T_degC\"].mean())"
   ]
  },
  {
   "cell_type": "code",
   "execution_count": 26,
   "id": "ebc7a8d1",
   "metadata": {},
   "outputs": [],
   "source": [
    "x=df1[[\"Salnty\",\"T_degC\"]]\n",
    "y=df1[\"Depthm\"]"
   ]
  },
  {
   "cell_type": "code",
   "execution_count": 27,
   "id": "d596abb8",
   "metadata": {},
   "outputs": [],
   "source": [
    "from sklearn.model_selection import train_test_split"
   ]
  },
  {
   "cell_type": "code",
   "execution_count": 28,
   "id": "fe5949ab",
   "metadata": {},
   "outputs": [],
   "source": [
    "x_train,x_test,y_train,y_test=train_test_split(x,y,test_size=0.2,random_state=55)"
   ]
  },
  {
   "cell_type": "code",
   "execution_count": 29,
   "id": "99fa99b7",
   "metadata": {},
   "outputs": [],
   "source": [
    "from sklearn.linear_model import LinearRegression"
   ]
  },
  {
   "cell_type": "code",
   "execution_count": 30,
   "id": "693af1b6",
   "metadata": {},
   "outputs": [],
   "source": [
    "l=LinearRegression()"
   ]
  },
  {
   "cell_type": "code",
   "execution_count": 31,
   "id": "afd6a3f6",
   "metadata": {},
   "outputs": [
    {
     "data": {
      "text/plain": [
       "LinearRegression()"
      ]
     },
     "execution_count": 31,
     "metadata": {},
     "output_type": "execute_result"
    }
   ],
   "source": [
    "l.fit(x,y)"
   ]
  },
  {
   "cell_type": "code",
   "execution_count": 32,
   "id": "0bf90a06",
   "metadata": {},
   "outputs": [],
   "source": [
    "tahmin1=l.predict(x)"
   ]
  },
  {
   "cell_type": "code",
   "execution_count": 33,
   "id": "88b9cf5d",
   "metadata": {},
   "outputs": [],
   "source": [
    "from sklearn.metrics import r2_score,mean_squared_error"
   ]
  },
  {
   "cell_type": "code",
   "execution_count": 34,
   "id": "72e362db",
   "metadata": {},
   "outputs": [
    {
     "data": {
      "text/plain": [
       "0.07329793685559727"
      ]
     },
     "execution_count": 34,
     "metadata": {},
     "output_type": "execute_result"
    }
   ],
   "source": [
    "r2_score(tahmin1,y)"
   ]
  },
  {
   "cell_type": "code",
   "execution_count": 35,
   "id": "4eb486c6",
   "metadata": {},
   "outputs": [],
   "source": [
    "from sklearn.linear_model import Lasso,Ridge"
   ]
  },
  {
   "cell_type": "code",
   "execution_count": 36,
   "id": "7b50875e",
   "metadata": {},
   "outputs": [],
   "source": [
    "la=Lasso()\n",
    "r=Ridge()"
   ]
  },
  {
   "cell_type": "code",
   "execution_count": 37,
   "id": "4f3b2e45",
   "metadata": {},
   "outputs": [
    {
     "data": {
      "text/plain": [
       "Ridge()"
      ]
     },
     "execution_count": 37,
     "metadata": {},
     "output_type": "execute_result"
    }
   ],
   "source": [
    "la.fit(x,y)\n",
    "r.fit(x,y)"
   ]
  },
  {
   "cell_type": "code",
   "execution_count": 38,
   "id": "1cb1638b",
   "metadata": {},
   "outputs": [],
   "source": [
    "tahmin2=la.predict(x)\n"
   ]
  },
  {
   "cell_type": "code",
   "execution_count": 39,
   "id": "d2ac7f2d",
   "metadata": {},
   "outputs": [],
   "source": [
    "tahmin3=r.predict(x)"
   ]
  },
  {
   "cell_type": "code",
   "execution_count": 40,
   "id": "7c409544",
   "metadata": {},
   "outputs": [
    {
     "data": {
      "text/plain": [
       "219.20245751195625"
      ]
     },
     "execution_count": 40,
     "metadata": {},
     "output_type": "execute_result"
    }
   ],
   "source": [
    "mean_squared_error(tahmin2,y)**0.5"
   ]
  },
  {
   "cell_type": "code",
   "execution_count": 41,
   "id": "b33ec9fd",
   "metadata": {},
   "outputs": [
    {
     "data": {
      "text/plain": [
       "0.0647804181242142"
      ]
     },
     "execution_count": 41,
     "metadata": {},
     "output_type": "execute_result"
    }
   ],
   "source": [
    "r2_score(tahmin2,y)"
   ]
  },
  {
   "cell_type": "code",
   "execution_count": 42,
   "id": "6282b235",
   "metadata": {},
   "outputs": [
    {
     "data": {
      "text/plain": [
       "219.18896342500628"
      ]
     },
     "execution_count": 42,
     "metadata": {},
     "output_type": "execute_result"
    }
   ],
   "source": [
    "mean_squared_error(tahmin3,y)**0.5"
   ]
  },
  {
   "cell_type": "code",
   "execution_count": 43,
   "id": "d11e26c4",
   "metadata": {},
   "outputs": [
    {
     "data": {
      "text/plain": [
       "0.0732962923893894"
      ]
     },
     "execution_count": 43,
     "metadata": {},
     "output_type": "execute_result"
    }
   ],
   "source": [
    "r2_score(tahmin3,y)"
   ]
  },
  {
   "cell_type": "code",
   "execution_count": null,
   "id": "edc9caef",
   "metadata": {},
   "outputs": [],
   "source": []
  }
 ],
 "metadata": {
  "kernelspec": {
   "display_name": "Python 3 (ipykernel)",
   "language": "python",
   "name": "python3"
  },
  "language_info": {
   "codemirror_mode": {
    "name": "ipython",
    "version": 3
   },
   "file_extension": ".py",
   "mimetype": "text/x-python",
   "name": "python",
   "nbconvert_exporter": "python",
   "pygments_lexer": "ipython3",
   "version": "3.9.12"
  }
 },
 "nbformat": 4,
 "nbformat_minor": 5
}
